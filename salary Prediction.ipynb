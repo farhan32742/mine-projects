{
 "cells": [
  {
   "cell_type": "code",
   "execution_count": 1,
   "id": "f5720bff",
   "metadata": {},
   "outputs": [],
   "source": [
    "import numpy as np\n",
    "import pandas as pd\n",
    "import matplotlib.pyplot as plt\n",
    "import seaborn as sns"
   ]
  },
  {
   "cell_type": "code",
   "execution_count": 2,
   "id": "55e4fe48",
   "metadata": {},
   "outputs": [
    {
     "data": {
      "text/html": [
       "<div>\n",
       "<style scoped>\n",
       "    .dataframe tbody tr th:only-of-type {\n",
       "        vertical-align: middle;\n",
       "    }\n",
       "\n",
       "    .dataframe tbody tr th {\n",
       "        vertical-align: top;\n",
       "    }\n",
       "\n",
       "    .dataframe thead th {\n",
       "        text-align: right;\n",
       "    }\n",
       "</style>\n",
       "<table border=\"1\" class=\"dataframe\">\n",
       "  <thead>\n",
       "    <tr style=\"text-align: right;\">\n",
       "      <th></th>\n",
       "      <th>FIRST NAME</th>\n",
       "      <th>LAST NAME</th>\n",
       "      <th>SEX</th>\n",
       "      <th>DOJ</th>\n",
       "      <th>CURRENT DATE</th>\n",
       "      <th>DESIGNATION</th>\n",
       "      <th>AGE</th>\n",
       "      <th>SALARY</th>\n",
       "      <th>UNIT</th>\n",
       "      <th>LEAVES USED</th>\n",
       "      <th>LEAVES REMAINING</th>\n",
       "      <th>RATINGS</th>\n",
       "      <th>PAST EXP</th>\n",
       "    </tr>\n",
       "  </thead>\n",
       "  <tbody>\n",
       "    <tr>\n",
       "      <th>0</th>\n",
       "      <td>TOMASA</td>\n",
       "      <td>ARMEN</td>\n",
       "      <td>F</td>\n",
       "      <td>5-18-2014</td>\n",
       "      <td>01-07-2016</td>\n",
       "      <td>Analyst</td>\n",
       "      <td>21.0</td>\n",
       "      <td>44570</td>\n",
       "      <td>Finance</td>\n",
       "      <td>24.0</td>\n",
       "      <td>6.0</td>\n",
       "      <td>2.0</td>\n",
       "      <td>0</td>\n",
       "    </tr>\n",
       "    <tr>\n",
       "      <th>1</th>\n",
       "      <td>ANNIE</td>\n",
       "      <td>NaN</td>\n",
       "      <td>F</td>\n",
       "      <td>NaN</td>\n",
       "      <td>01-07-2016</td>\n",
       "      <td>Associate</td>\n",
       "      <td>NaN</td>\n",
       "      <td>89207</td>\n",
       "      <td>Web</td>\n",
       "      <td>NaN</td>\n",
       "      <td>13.0</td>\n",
       "      <td>NaN</td>\n",
       "      <td>7</td>\n",
       "    </tr>\n",
       "    <tr>\n",
       "      <th>2</th>\n",
       "      <td>OLIVE</td>\n",
       "      <td>ANCY</td>\n",
       "      <td>F</td>\n",
       "      <td>7-28-2014</td>\n",
       "      <td>01-07-2016</td>\n",
       "      <td>Analyst</td>\n",
       "      <td>21.0</td>\n",
       "      <td>40955</td>\n",
       "      <td>Finance</td>\n",
       "      <td>23.0</td>\n",
       "      <td>7.0</td>\n",
       "      <td>3.0</td>\n",
       "      <td>0</td>\n",
       "    </tr>\n",
       "    <tr>\n",
       "      <th>3</th>\n",
       "      <td>CHERRY</td>\n",
       "      <td>AQUILAR</td>\n",
       "      <td>F</td>\n",
       "      <td>04-03-2013</td>\n",
       "      <td>01-07-2016</td>\n",
       "      <td>Analyst</td>\n",
       "      <td>22.0</td>\n",
       "      <td>45550</td>\n",
       "      <td>IT</td>\n",
       "      <td>22.0</td>\n",
       "      <td>8.0</td>\n",
       "      <td>3.0</td>\n",
       "      <td>0</td>\n",
       "    </tr>\n",
       "    <tr>\n",
       "      <th>4</th>\n",
       "      <td>LEON</td>\n",
       "      <td>ABOULAHOUD</td>\n",
       "      <td>M</td>\n",
       "      <td>11-20-2014</td>\n",
       "      <td>01-07-2016</td>\n",
       "      <td>Analyst</td>\n",
       "      <td>NaN</td>\n",
       "      <td>43161</td>\n",
       "      <td>Operations</td>\n",
       "      <td>27.0</td>\n",
       "      <td>3.0</td>\n",
       "      <td>NaN</td>\n",
       "      <td>3</td>\n",
       "    </tr>\n",
       "  </tbody>\n",
       "</table>\n",
       "</div>"
      ],
      "text/plain": [
       "  FIRST NAME   LAST NAME SEX         DOJ CURRENT DATE DESIGNATION   AGE  \\\n",
       "0     TOMASA       ARMEN   F   5-18-2014   01-07-2016     Analyst  21.0   \n",
       "1      ANNIE         NaN   F         NaN   01-07-2016   Associate   NaN   \n",
       "2      OLIVE        ANCY   F   7-28-2014   01-07-2016     Analyst  21.0   \n",
       "3     CHERRY     AQUILAR   F  04-03-2013   01-07-2016     Analyst  22.0   \n",
       "4       LEON  ABOULAHOUD   M  11-20-2014   01-07-2016     Analyst   NaN   \n",
       "\n",
       "   SALARY        UNIT  LEAVES USED  LEAVES REMAINING  RATINGS  PAST EXP  \n",
       "0   44570     Finance         24.0               6.0      2.0         0  \n",
       "1   89207         Web          NaN              13.0      NaN         7  \n",
       "2   40955     Finance         23.0               7.0      3.0         0  \n",
       "3   45550          IT         22.0               8.0      3.0         0  \n",
       "4   43161  Operations         27.0               3.0      NaN         3  "
      ]
     },
     "execution_count": 2,
     "metadata": {},
     "output_type": "execute_result"
    }
   ],
   "source": [
    "df=pd.read_csv(\"Salary Prediction of Data Professions.csv\")\n",
    "df.head()"
   ]
  },
  {
   "cell_type": "code",
   "execution_count": 3,
   "id": "f0eb00fc",
   "metadata": {},
   "outputs": [
    {
     "data": {
      "text/plain": [
       "Index(['FIRST NAME', 'LAST NAME', 'SEX', 'DOJ', 'CURRENT DATE', 'DESIGNATION',\n",
       "       'AGE', 'SALARY', 'UNIT', 'LEAVES USED', 'LEAVES REMAINING', 'RATINGS',\n",
       "       'PAST EXP'],\n",
       "      dtype='object')"
      ]
     },
     "execution_count": 3,
     "metadata": {},
     "output_type": "execute_result"
    }
   ],
   "source": [
    "df.columns"
   ]
  },
  {
   "cell_type": "code",
   "execution_count": 4,
   "id": "491db6d7",
   "metadata": {},
   "outputs": [
    {
     "name": "stdout",
     "output_type": "stream",
     "text": [
      "<class 'pandas.core.frame.DataFrame'>\n",
      "RangeIndex: 2639 entries, 0 to 2638\n",
      "Data columns (total 13 columns):\n",
      " #   Column            Non-Null Count  Dtype  \n",
      "---  ------            --------------  -----  \n",
      " 0   FIRST NAME        2639 non-null   object \n",
      " 1   LAST NAME         2637 non-null   object \n",
      " 2   SEX               2639 non-null   object \n",
      " 3   DOJ               2638 non-null   object \n",
      " 4   CURRENT DATE      2639 non-null   object \n",
      " 5   DESIGNATION       2639 non-null   object \n",
      " 6   AGE               2636 non-null   float64\n",
      " 7   SALARY            2639 non-null   int64  \n",
      " 8   UNIT              2639 non-null   object \n",
      " 9   LEAVES USED       2636 non-null   float64\n",
      " 10  LEAVES REMAINING  2637 non-null   float64\n",
      " 11  RATINGS           2637 non-null   float64\n",
      " 12  PAST EXP          2639 non-null   int64  \n",
      "dtypes: float64(4), int64(2), object(7)\n",
      "memory usage: 268.1+ KB\n"
     ]
    }
   ],
   "source": [
    "df.info()"
   ]
  },
  {
   "cell_type": "code",
   "execution_count": 5,
   "id": "0ace6a53",
   "metadata": {},
   "outputs": [
    {
     "data": {
      "text/plain": [
       "FIRST NAME          0\n",
       "LAST NAME           2\n",
       "SEX                 0\n",
       "DOJ                 1\n",
       "CURRENT DATE        0\n",
       "DESIGNATION         0\n",
       "AGE                 3\n",
       "SALARY              0\n",
       "UNIT                0\n",
       "LEAVES USED         3\n",
       "LEAVES REMAINING    2\n",
       "RATINGS             2\n",
       "PAST EXP            0\n",
       "dtype: int64"
      ]
     },
     "execution_count": 5,
     "metadata": {},
     "output_type": "execute_result"
    }
   ],
   "source": [
    "df.isnull().sum()"
   ]
  },
  {
   "cell_type": "code",
   "execution_count": 6,
   "id": "337b691d",
   "metadata": {},
   "outputs": [
    {
     "name": "stdout",
     "output_type": "stream",
     "text": [
      "<class 'pandas.core.frame.DataFrame'>\n",
      "Index: 2631 entries, 0 to 2638\n",
      "Data columns (total 13 columns):\n",
      " #   Column            Non-Null Count  Dtype  \n",
      "---  ------            --------------  -----  \n",
      " 0   FIRST NAME        2631 non-null   object \n",
      " 1   LAST NAME         2631 non-null   object \n",
      " 2   SEX               2631 non-null   object \n",
      " 3   DOJ               2631 non-null   object \n",
      " 4   CURRENT DATE      2631 non-null   object \n",
      " 5   DESIGNATION       2631 non-null   object \n",
      " 6   AGE               2631 non-null   float64\n",
      " 7   SALARY            2631 non-null   int64  \n",
      " 8   UNIT              2631 non-null   object \n",
      " 9   LEAVES USED       2631 non-null   float64\n",
      " 10  LEAVES REMAINING  2631 non-null   float64\n",
      " 11  RATINGS           2631 non-null   float64\n",
      " 12  PAST EXP          2631 non-null   int64  \n",
      "dtypes: float64(4), int64(2), object(7)\n",
      "memory usage: 287.8+ KB\n"
     ]
    }
   ],
   "source": [
    "df.dropna(inplace=True)\n",
    "df.info()"
   ]
  },
  {
   "cell_type": "code",
   "execution_count": 7,
   "id": "0124eada",
   "metadata": {},
   "outputs": [],
   "source": [
    "df['DOJ']=pd.to_datetime(df['DOJ'])\n",
    "df['CURRENT DATE']=pd.to_datetime(df['CURRENT DATE'])\n",
    "df['Total_time_in_company']=(df['CURRENT DATE']-df['DOJ']).dt.days/30\n",
    "df['Total_time_in_company']=df['Total_time_in_company'].astype(int)"
   ]
  },
  {
   "cell_type": "code",
   "execution_count": 8,
   "id": "ec08af60",
   "metadata": {},
   "outputs": [
    {
     "data": {
      "text/html": [
       "<div>\n",
       "<style scoped>\n",
       "    .dataframe tbody tr th:only-of-type {\n",
       "        vertical-align: middle;\n",
       "    }\n",
       "\n",
       "    .dataframe tbody tr th {\n",
       "        vertical-align: top;\n",
       "    }\n",
       "\n",
       "    .dataframe thead th {\n",
       "        text-align: right;\n",
       "    }\n",
       "</style>\n",
       "<table border=\"1\" class=\"dataframe\">\n",
       "  <thead>\n",
       "    <tr style=\"text-align: right;\">\n",
       "      <th></th>\n",
       "      <th>FIRST NAME</th>\n",
       "      <th>LAST NAME</th>\n",
       "      <th>SEX</th>\n",
       "      <th>DOJ</th>\n",
       "      <th>CURRENT DATE</th>\n",
       "      <th>DESIGNATION</th>\n",
       "      <th>AGE</th>\n",
       "      <th>SALARY</th>\n",
       "      <th>UNIT</th>\n",
       "      <th>LEAVES USED</th>\n",
       "      <th>LEAVES REMAINING</th>\n",
       "      <th>RATINGS</th>\n",
       "      <th>PAST EXP</th>\n",
       "      <th>Total_time_in_company</th>\n",
       "    </tr>\n",
       "  </thead>\n",
       "  <tbody>\n",
       "    <tr>\n",
       "      <th>0</th>\n",
       "      <td>TOMASA</td>\n",
       "      <td>ARMEN</td>\n",
       "      <td>F</td>\n",
       "      <td>2014-05-18</td>\n",
       "      <td>2016-01-07</td>\n",
       "      <td>Analyst</td>\n",
       "      <td>21.0</td>\n",
       "      <td>44570</td>\n",
       "      <td>Finance</td>\n",
       "      <td>24.0</td>\n",
       "      <td>6.0</td>\n",
       "      <td>2.0</td>\n",
       "      <td>0</td>\n",
       "      <td>19</td>\n",
       "    </tr>\n",
       "    <tr>\n",
       "      <th>2</th>\n",
       "      <td>OLIVE</td>\n",
       "      <td>ANCY</td>\n",
       "      <td>F</td>\n",
       "      <td>2014-07-28</td>\n",
       "      <td>2016-01-07</td>\n",
       "      <td>Analyst</td>\n",
       "      <td>21.0</td>\n",
       "      <td>40955</td>\n",
       "      <td>Finance</td>\n",
       "      <td>23.0</td>\n",
       "      <td>7.0</td>\n",
       "      <td>3.0</td>\n",
       "      <td>0</td>\n",
       "      <td>17</td>\n",
       "    </tr>\n",
       "    <tr>\n",
       "      <th>3</th>\n",
       "      <td>CHERRY</td>\n",
       "      <td>AQUILAR</td>\n",
       "      <td>F</td>\n",
       "      <td>2013-04-03</td>\n",
       "      <td>2016-01-07</td>\n",
       "      <td>Analyst</td>\n",
       "      <td>22.0</td>\n",
       "      <td>45550</td>\n",
       "      <td>IT</td>\n",
       "      <td>22.0</td>\n",
       "      <td>8.0</td>\n",
       "      <td>3.0</td>\n",
       "      <td>0</td>\n",
       "      <td>33</td>\n",
       "    </tr>\n",
       "    <tr>\n",
       "      <th>6</th>\n",
       "      <td>ELLIOT</td>\n",
       "      <td>AGULAR</td>\n",
       "      <td>M</td>\n",
       "      <td>2013-09-02</td>\n",
       "      <td>2016-01-07</td>\n",
       "      <td>Analyst</td>\n",
       "      <td>22.0</td>\n",
       "      <td>40339</td>\n",
       "      <td>Marketing</td>\n",
       "      <td>19.0</td>\n",
       "      <td>11.0</td>\n",
       "      <td>5.0</td>\n",
       "      <td>0</td>\n",
       "      <td>28</td>\n",
       "    </tr>\n",
       "    <tr>\n",
       "      <th>8</th>\n",
       "      <td>KATHY</td>\n",
       "      <td>ALSOP</td>\n",
       "      <td>F</td>\n",
       "      <td>2014-06-29</td>\n",
       "      <td>2016-01-07</td>\n",
       "      <td>Senior Analyst</td>\n",
       "      <td>28.0</td>\n",
       "      <td>63478</td>\n",
       "      <td>Operations</td>\n",
       "      <td>20.0</td>\n",
       "      <td>10.0</td>\n",
       "      <td>3.0</td>\n",
       "      <td>1</td>\n",
       "      <td>18</td>\n",
       "    </tr>\n",
       "  </tbody>\n",
       "</table>\n",
       "</div>"
      ],
      "text/plain": [
       "  FIRST NAME LAST NAME SEX        DOJ CURRENT DATE     DESIGNATION   AGE  \\\n",
       "0     TOMASA     ARMEN   F 2014-05-18   2016-01-07         Analyst  21.0   \n",
       "2      OLIVE      ANCY   F 2014-07-28   2016-01-07         Analyst  21.0   \n",
       "3     CHERRY   AQUILAR   F 2013-04-03   2016-01-07         Analyst  22.0   \n",
       "6     ELLIOT    AGULAR   M 2013-09-02   2016-01-07         Analyst  22.0   \n",
       "8      KATHY     ALSOP   F 2014-06-29   2016-01-07  Senior Analyst  28.0   \n",
       "\n",
       "   SALARY        UNIT  LEAVES USED  LEAVES REMAINING  RATINGS  PAST EXP  \\\n",
       "0   44570     Finance         24.0               6.0      2.0         0   \n",
       "2   40955     Finance         23.0               7.0      3.0         0   \n",
       "3   45550          IT         22.0               8.0      3.0         0   \n",
       "6   40339   Marketing         19.0              11.0      5.0         0   \n",
       "8   63478  Operations         20.0              10.0      3.0         1   \n",
       "\n",
       "   Total_time_in_company  \n",
       "0                     19  \n",
       "2                     17  \n",
       "3                     33  \n",
       "6                     28  \n",
       "8                     18  "
      ]
     },
     "execution_count": 8,
     "metadata": {},
     "output_type": "execute_result"
    }
   ],
   "source": [
    "df.head()"
   ]
  },
  {
   "cell_type": "code",
   "execution_count": 9,
   "id": "35d50bad",
   "metadata": {},
   "outputs": [],
   "source": [
    "#now droping the joining date and current date\n",
    "df.drop(['CURRENT DATE','DOJ'],axis=1,inplace=True)"
   ]
  },
  {
   "cell_type": "code",
   "execution_count": 10,
   "id": "26e9870c",
   "metadata": {},
   "outputs": [
    {
     "name": "stdout",
     "output_type": "stream",
     "text": [
      "<class 'pandas.core.frame.DataFrame'>\n",
      "Index: 2631 entries, 0 to 2638\n",
      "Data columns (total 12 columns):\n",
      " #   Column                 Non-Null Count  Dtype  \n",
      "---  ------                 --------------  -----  \n",
      " 0   FIRST NAME             2631 non-null   object \n",
      " 1   LAST NAME              2631 non-null   object \n",
      " 2   SEX                    2631 non-null   object \n",
      " 3   DESIGNATION            2631 non-null   object \n",
      " 4   AGE                    2631 non-null   float64\n",
      " 5   SALARY                 2631 non-null   int64  \n",
      " 6   UNIT                   2631 non-null   object \n",
      " 7   LEAVES USED            2631 non-null   float64\n",
      " 8   LEAVES REMAINING       2631 non-null   float64\n",
      " 9   RATINGS                2631 non-null   float64\n",
      " 10  PAST EXP               2631 non-null   int64  \n",
      " 11  Total_time_in_company  2631 non-null   int32  \n",
      "dtypes: float64(4), int32(1), int64(2), object(5)\n",
      "memory usage: 256.9+ KB\n"
     ]
    }
   ],
   "source": [
    "\n",
    "df.info()"
   ]
  },
  {
   "cell_type": "code",
   "execution_count": 11,
   "id": "97aca016",
   "metadata": {},
   "outputs": [
    {
     "data": {
      "text/html": [
       "<div>\n",
       "<style scoped>\n",
       "    .dataframe tbody tr th:only-of-type {\n",
       "        vertical-align: middle;\n",
       "    }\n",
       "\n",
       "    .dataframe tbody tr th {\n",
       "        vertical-align: top;\n",
       "    }\n",
       "\n",
       "    .dataframe thead th {\n",
       "        text-align: right;\n",
       "    }\n",
       "</style>\n",
       "<table border=\"1\" class=\"dataframe\">\n",
       "  <thead>\n",
       "    <tr style=\"text-align: right;\">\n",
       "      <th></th>\n",
       "      <th>DESIGNATION</th>\n",
       "      <th>SEX</th>\n",
       "    </tr>\n",
       "  </thead>\n",
       "  <tbody>\n",
       "    <tr>\n",
       "      <th>0</th>\n",
       "      <td>Analyst</td>\n",
       "      <td>1943</td>\n",
       "    </tr>\n",
       "    <tr>\n",
       "      <th>1</th>\n",
       "      <td>Associate</td>\n",
       "      <td>158</td>\n",
       "    </tr>\n",
       "    <tr>\n",
       "      <th>2</th>\n",
       "      <td>Director</td>\n",
       "      <td>32</td>\n",
       "    </tr>\n",
       "    <tr>\n",
       "      <th>3</th>\n",
       "      <td>Manager</td>\n",
       "      <td>81</td>\n",
       "    </tr>\n",
       "    <tr>\n",
       "      <th>4</th>\n",
       "      <td>Senior Analyst</td>\n",
       "      <td>356</td>\n",
       "    </tr>\n",
       "    <tr>\n",
       "      <th>5</th>\n",
       "      <td>Senior Manager</td>\n",
       "      <td>61</td>\n",
       "    </tr>\n",
       "  </tbody>\n",
       "</table>\n",
       "</div>"
      ],
      "text/plain": [
       "      DESIGNATION   SEX\n",
       "0         Analyst  1943\n",
       "1       Associate   158\n",
       "2        Director    32\n",
       "3         Manager    81\n",
       "4  Senior Analyst   356\n",
       "5  Senior Manager    61"
      ]
     },
     "execution_count": 11,
     "metadata": {},
     "output_type": "execute_result"
    }
   ],
   "source": [
    "total_profassionalist = df.groupby('DESIGNATION').agg({'SEX':'count'}).reset_index()\n",
    "total_profassionalist"
   ]
  },
  {
   "cell_type": "code",
   "execution_count": 12,
   "id": "00713aaa",
   "metadata": {},
   "outputs": [
    {
     "name": "stderr",
     "output_type": "stream",
     "text": [
      "C:\\Users\\PC\\AppData\\Local\\Programs\\Python\\Python310\\lib\\site-packages\\seaborn\\_oldcore.py:1498: FutureWarning: is_categorical_dtype is deprecated and will be removed in a future version. Use isinstance(dtype, CategoricalDtype) instead\n",
      "  if pd.api.types.is_categorical_dtype(vector):\n",
      "C:\\Users\\PC\\AppData\\Local\\Programs\\Python\\Python310\\lib\\site-packages\\seaborn\\_oldcore.py:1498: FutureWarning: is_categorical_dtype is deprecated and will be removed in a future version. Use isinstance(dtype, CategoricalDtype) instead\n",
      "  if pd.api.types.is_categorical_dtype(vector):\n",
      "C:\\Users\\PC\\AppData\\Local\\Programs\\Python\\Python310\\lib\\site-packages\\seaborn\\_oldcore.py:1498: FutureWarning: is_categorical_dtype is deprecated and will be removed in a future version. Use isinstance(dtype, CategoricalDtype) instead\n",
      "  if pd.api.types.is_categorical_dtype(vector):\n"
     ]
    },
    {
     "data": {
      "image/png": "[encoded data removed]",
      "text/plain": [
       "<Figure size 1500x1000 with 1 Axes>"
      ]
     },
     "metadata": {},
     "output_type": "display_data"
    }
   ],
   "source": [
    "plt.figure(figsize=(15,10))\n",
    "sns.barplot(data=total_profassionalist,x='DESIGNATION',y='SEX')\n",
    "\n",
    "plt.show()"
   ]
  },
  {
   "cell_type": "code",
   "execution_count": 13,
   "id": "e047b7a6",
   "metadata": {},
   "outputs": [
    {
     "data": {
      "text/plain": [
       "Index(['FIRST NAME', 'LAST NAME', 'SEX', 'DESIGNATION', 'AGE', 'SALARY',\n",
       "       'UNIT', 'LEAVES USED', 'LEAVES REMAINING', 'RATINGS', 'PAST EXP',\n",
       "       'Total_time_in_company'],\n",
       "      dtype='object')"
      ]
     },
     "execution_count": 13,
     "metadata": {},
     "output_type": "execute_result"
    }
   ],
   "source": [
    "df.columns"
   ]
  },
  {
   "cell_type": "code",
   "execution_count": 14,
   "id": "80d03c34",
   "metadata": {},
   "outputs": [
    {
     "data": {
      "text/html": [
       "<div>\n",
       "<style scoped>\n",
       "    .dataframe tbody tr th:only-of-type {\n",
       "        vertical-align: middle;\n",
       "    }\n",
       "\n",
       "    .dataframe tbody tr th {\n",
       "        vertical-align: top;\n",
       "    }\n",
       "\n",
       "    .dataframe thead th {\n",
       "        text-align: right;\n",
       "    }\n",
       "</style>\n",
       "<table border=\"1\" class=\"dataframe\">\n",
       "  <thead>\n",
       "    <tr style=\"text-align: right;\">\n",
       "      <th></th>\n",
       "      <th>DESIGNATION</th>\n",
       "      <th>UNIT</th>\n",
       "      <th>SALARY</th>\n",
       "    </tr>\n",
       "  </thead>\n",
       "  <tbody>\n",
       "    <tr>\n",
       "      <th>0</th>\n",
       "      <td>Analyst</td>\n",
       "      <td>Finance</td>\n",
       "      <td>49953</td>\n",
       "    </tr>\n",
       "    <tr>\n",
       "      <th>1</th>\n",
       "      <td>Analyst</td>\n",
       "      <td>IT</td>\n",
       "      <td>49980</td>\n",
       "    </tr>\n",
       "    <tr>\n",
       "      <th>2</th>\n",
       "      <td>Analyst</td>\n",
       "      <td>Management</td>\n",
       "      <td>49904</td>\n",
       "    </tr>\n",
       "    <tr>\n",
       "      <th>3</th>\n",
       "      <td>Analyst</td>\n",
       "      <td>Marketing</td>\n",
       "      <td>49974</td>\n",
       "    </tr>\n",
       "    <tr>\n",
       "      <th>4</th>\n",
       "      <td>Analyst</td>\n",
       "      <td>Operations</td>\n",
       "      <td>49942</td>\n",
       "    </tr>\n",
       "    <tr>\n",
       "      <th>5</th>\n",
       "      <td>Analyst</td>\n",
       "      <td>Web</td>\n",
       "      <td>49976</td>\n",
       "    </tr>\n",
       "    <tr>\n",
       "      <th>6</th>\n",
       "      <td>Associate</td>\n",
       "      <td>Finance</td>\n",
       "      <td>99311</td>\n",
       "    </tr>\n",
       "    <tr>\n",
       "      <th>7</th>\n",
       "      <td>Associate</td>\n",
       "      <td>IT</td>\n",
       "      <td>97830</td>\n",
       "    </tr>\n",
       "    <tr>\n",
       "      <th>8</th>\n",
       "      <td>Associate</td>\n",
       "      <td>Management</td>\n",
       "      <td>99416</td>\n",
       "    </tr>\n",
       "    <tr>\n",
       "      <th>9</th>\n",
       "      <td>Associate</td>\n",
       "      <td>Marketing</td>\n",
       "      <td>99603</td>\n",
       "    </tr>\n",
       "    <tr>\n",
       "      <th>10</th>\n",
       "      <td>Associate</td>\n",
       "      <td>Operations</td>\n",
       "      <td>98715</td>\n",
       "    </tr>\n",
       "    <tr>\n",
       "      <th>11</th>\n",
       "      <td>Associate</td>\n",
       "      <td>Web</td>\n",
       "      <td>99521</td>\n",
       "    </tr>\n",
       "    <tr>\n",
       "      <th>12</th>\n",
       "      <td>Director</td>\n",
       "      <td>Finance</td>\n",
       "      <td>375647</td>\n",
       "    </tr>\n",
       "    <tr>\n",
       "      <th>13</th>\n",
       "      <td>Director</td>\n",
       "      <td>IT</td>\n",
       "      <td>355337</td>\n",
       "    </tr>\n",
       "    <tr>\n",
       "      <th>14</th>\n",
       "      <td>Director</td>\n",
       "      <td>Management</td>\n",
       "      <td>368887</td>\n",
       "    </tr>\n",
       "    <tr>\n",
       "      <th>15</th>\n",
       "      <td>Director</td>\n",
       "      <td>Marketing</td>\n",
       "      <td>388112</td>\n",
       "    </tr>\n",
       "    <tr>\n",
       "      <th>16</th>\n",
       "      <td>Director</td>\n",
       "      <td>Operations</td>\n",
       "      <td>301872</td>\n",
       "    </tr>\n",
       "    <tr>\n",
       "      <th>17</th>\n",
       "      <td>Director</td>\n",
       "      <td>Web</td>\n",
       "      <td>324129</td>\n",
       "    </tr>\n",
       "    <tr>\n",
       "      <th>18</th>\n",
       "      <td>Manager</td>\n",
       "      <td>Finance</td>\n",
       "      <td>148273</td>\n",
       "    </tr>\n",
       "    <tr>\n",
       "      <th>19</th>\n",
       "      <td>Manager</td>\n",
       "      <td>IT</td>\n",
       "      <td>144573</td>\n",
       "    </tr>\n",
       "    <tr>\n",
       "      <th>20</th>\n",
       "      <td>Manager</td>\n",
       "      <td>Management</td>\n",
       "      <td>147560</td>\n",
       "    </tr>\n",
       "    <tr>\n",
       "      <th>21</th>\n",
       "      <td>Manager</td>\n",
       "      <td>Marketing</td>\n",
       "      <td>148890</td>\n",
       "    </tr>\n",
       "    <tr>\n",
       "      <th>22</th>\n",
       "      <td>Manager</td>\n",
       "      <td>Operations</td>\n",
       "      <td>144095</td>\n",
       "    </tr>\n",
       "    <tr>\n",
       "      <th>23</th>\n",
       "      <td>Manager</td>\n",
       "      <td>Web</td>\n",
       "      <td>148606</td>\n",
       "    </tr>\n",
       "    <tr>\n",
       "      <th>24</th>\n",
       "      <td>Senior Analyst</td>\n",
       "      <td>Finance</td>\n",
       "      <td>69851</td>\n",
       "    </tr>\n",
       "    <tr>\n",
       "      <th>25</th>\n",
       "      <td>Senior Analyst</td>\n",
       "      <td>IT</td>\n",
       "      <td>69590</td>\n",
       "    </tr>\n",
       "    <tr>\n",
       "      <th>26</th>\n",
       "      <td>Senior Analyst</td>\n",
       "      <td>Management</td>\n",
       "      <td>69877</td>\n",
       "    </tr>\n",
       "    <tr>\n",
       "      <th>27</th>\n",
       "      <td>Senior Analyst</td>\n",
       "      <td>Marketing</td>\n",
       "      <td>69966</td>\n",
       "    </tr>\n",
       "    <tr>\n",
       "      <th>28</th>\n",
       "      <td>Senior Analyst</td>\n",
       "      <td>Operations</td>\n",
       "      <td>69329</td>\n",
       "    </tr>\n",
       "    <tr>\n",
       "      <th>29</th>\n",
       "      <td>Senior Analyst</td>\n",
       "      <td>Web</td>\n",
       "      <td>69772</td>\n",
       "    </tr>\n",
       "    <tr>\n",
       "      <th>30</th>\n",
       "      <td>Senior Manager</td>\n",
       "      <td>Finance</td>\n",
       "      <td>195985</td>\n",
       "    </tr>\n",
       "    <tr>\n",
       "      <th>31</th>\n",
       "      <td>Senior Manager</td>\n",
       "      <td>IT</td>\n",
       "      <td>199060</td>\n",
       "    </tr>\n",
       "    <tr>\n",
       "      <th>32</th>\n",
       "      <td>Senior Manager</td>\n",
       "      <td>Management</td>\n",
       "      <td>197246</td>\n",
       "    </tr>\n",
       "    <tr>\n",
       "      <th>33</th>\n",
       "      <td>Senior Manager</td>\n",
       "      <td>Marketing</td>\n",
       "      <td>199577</td>\n",
       "    </tr>\n",
       "    <tr>\n",
       "      <th>34</th>\n",
       "      <td>Senior Manager</td>\n",
       "      <td>Operations</td>\n",
       "      <td>198814</td>\n",
       "    </tr>\n",
       "    <tr>\n",
       "      <th>35</th>\n",
       "      <td>Senior Manager</td>\n",
       "      <td>Web</td>\n",
       "      <td>187837</td>\n",
       "    </tr>\n",
       "  </tbody>\n",
       "</table>\n",
       "</div>"
      ],
      "text/plain": [
       "       DESIGNATION        UNIT  SALARY\n",
       "0          Analyst     Finance   49953\n",
       "1          Analyst          IT   49980\n",
       "2          Analyst  Management   49904\n",
       "3          Analyst   Marketing   49974\n",
       "4          Analyst  Operations   49942\n",
       "5          Analyst         Web   49976\n",
       "6        Associate     Finance   99311\n",
       "7        Associate          IT   97830\n",
       "8        Associate  Management   99416\n",
       "9        Associate   Marketing   99603\n",
       "10       Associate  Operations   98715\n",
       "11       Associate         Web   99521\n",
       "12        Director     Finance  375647\n",
       "13        Director          IT  355337\n",
       "14        Director  Management  368887\n",
       "15        Director   Marketing  388112\n",
       "16        Director  Operations  301872\n",
       "17        Director         Web  324129\n",
       "18         Manager     Finance  148273\n",
       "19         Manager          IT  144573\n",
       "20         Manager  Management  147560\n",
       "21         Manager   Marketing  148890\n",
       "22         Manager  Operations  144095\n",
       "23         Manager         Web  148606\n",
       "24  Senior Analyst     Finance   69851\n",
       "25  Senior Analyst          IT   69590\n",
       "26  Senior Analyst  Management   69877\n",
       "27  Senior Analyst   Marketing   69966\n",
       "28  Senior Analyst  Operations   69329\n",
       "29  Senior Analyst         Web   69772\n",
       "30  Senior Manager     Finance  195985\n",
       "31  Senior Manager          IT  199060\n",
       "32  Senior Manager  Management  197246\n",
       "33  Senior Manager   Marketing  199577\n",
       "34  Senior Manager  Operations  198814\n",
       "35  Senior Manager         Web  187837"
      ]
     },
     "execution_count": 14,
     "metadata": {},
     "output_type": "execute_result"
    }
   ],
   "source": [
    "total_profassionalist_depat = df.groupby(['DESIGNATION','UNIT']).agg({'SALARY':'max'}).reset_index()\n",
    "total_profassionalist_depat"
   ]
  },
  {
   "cell_type": "code",
   "execution_count": 15,
   "id": "3968966f",
   "metadata": {},
   "outputs": [
    {
     "name": "stderr",
     "output_type": "stream",
     "text": [
      "C:\\Users\\PC\\AppData\\Local\\Programs\\Python\\Python310\\lib\\site-packages\\seaborn\\_oldcore.py:1498: FutureWarning: is_categorical_dtype is deprecated and will be removed in a future version. Use isinstance(dtype, CategoricalDtype) instead\n",
      "  if pd.api.types.is_categorical_dtype(vector):\n",
      "C:\\Users\\PC\\AppData\\Local\\Programs\\Python\\Python310\\lib\\site-packages\\seaborn\\_oldcore.py:1498: FutureWarning: is_categorical_dtype is deprecated and will be removed in a future version. Use isinstance(dtype, CategoricalDtype) instead\n",
      "  if pd.api.types.is_categorical_dtype(vector):\n",
      "C:\\Users\\PC\\AppData\\Local\\Programs\\Python\\Python310\\lib\\site-packages\\seaborn\\_oldcore.py:1498: FutureWarning: is_categorical_dtype is deprecated and will be removed in a future version. Use isinstance(dtype, CategoricalDtype) instead\n",
      "  if pd.api.types.is_categorical_dtype(vector):\n",
      "C:\\Users\\PC\\AppData\\Local\\Programs\\Python\\Python310\\lib\\site-packages\\seaborn\\_oldcore.py:1498: FutureWarning: is_categorical_dtype is deprecated and will be removed in a future version. Use isinstance(dtype, CategoricalDtype) instead\n",
      "  if pd.api.types.is_categorical_dtype(vector):\n"
     ]
    },
    {
     "data": {
      "image/png": "[encoded data removed]",
      "text/plain": [
       "<Figure size 1500x1000 with 1 Axes>"
      ]
     },
     "metadata": {},
     "output_type": "display_data"
    }
   ],
   "source": [
    "plt.figure(figsize=(15,10))\n",
    "ax=sns.barplot(data=total_profassionalist_depat,x='DESIGNATION',y='SALARY',hue='UNIT')\n",
    "\n",
    "plt.show()"
   ]
  },
  {
   "cell_type": "code",
   "execution_count": 16,
   "id": "735328c2",
   "metadata": {},
   "outputs": [
    {
     "data": {
      "text/plain": [
       "Index(['FIRST NAME', 'LAST NAME', 'SEX', 'DESIGNATION', 'AGE', 'SALARY',\n",
       "       'UNIT', 'LEAVES USED', 'LEAVES REMAINING', 'RATINGS', 'PAST EXP',\n",
       "       'Total_time_in_company'],\n",
       "      dtype='object')"
      ]
     },
     "execution_count": 16,
     "metadata": {},
     "output_type": "execute_result"
    }
   ],
   "source": [
    "df.columns"
   ]
  },
  {
   "cell_type": "code",
   "execution_count": 17,
   "id": "d5811169",
   "metadata": {},
   "outputs": [],
   "source": [
    "data = df.groupby(['DESIGNATION','AGE','UNIT','PAST EXP','Total_time_in_company']).agg({'SALARY':'max','RATINGS':'max'}).reset_index()"
   ]
  },
  {
   "cell_type": "code",
   "execution_count": 18,
   "id": "1f8b6ab4",
   "metadata": {},
   "outputs": [
    {
     "data": {
      "text/html": [
       "<div>\n",
       "<style scoped>\n",
       "    .dataframe tbody tr th:only-of-type {\n",
       "        vertical-align: middle;\n",
       "    }\n",
       "\n",
       "    .dataframe tbody tr th {\n",
       "        vertical-align: top;\n",
       "    }\n",
       "\n",
       "    .dataframe thead th {\n",
       "        text-align: right;\n",
       "    }\n",
       "</style>\n",
       "<table border=\"1\" class=\"dataframe\">\n",
       "  <thead>\n",
       "    <tr style=\"text-align: right;\">\n",
       "      <th></th>\n",
       "      <th>DESIGNATION</th>\n",
       "      <th>AGE</th>\n",
       "      <th>UNIT</th>\n",
       "      <th>PAST EXP</th>\n",
       "      <th>Total_time_in_company</th>\n",
       "      <th>SALARY</th>\n",
       "      <th>RATINGS</th>\n",
       "    </tr>\n",
       "  </thead>\n",
       "  <tbody>\n",
       "    <tr>\n",
       "      <th>882</th>\n",
       "      <td>Director</td>\n",
       "      <td>42.0</td>\n",
       "      <td>Marketing</td>\n",
       "      <td>18</td>\n",
       "      <td>35</td>\n",
       "      <td>388112</td>\n",
       "      <td>2.0</td>\n",
       "    </tr>\n",
       "    <tr>\n",
       "      <th>878</th>\n",
       "      <td>Director</td>\n",
       "      <td>41.0</td>\n",
       "      <td>Finance</td>\n",
       "      <td>14</td>\n",
       "      <td>77</td>\n",
       "      <td>375647</td>\n",
       "      <td>5.0</td>\n",
       "    </tr>\n",
       "    <tr>\n",
       "      <th>868</th>\n",
       "      <td>Director</td>\n",
       "      <td>39.0</td>\n",
       "      <td>Management</td>\n",
       "      <td>13</td>\n",
       "      <td>17</td>\n",
       "      <td>368887</td>\n",
       "      <td>3.0</td>\n",
       "    </tr>\n",
       "    <tr>\n",
       "      <th>869</th>\n",
       "      <td>Director</td>\n",
       "      <td>39.0</td>\n",
       "      <td>Marketing</td>\n",
       "      <td>13</td>\n",
       "      <td>37</td>\n",
       "      <td>366063</td>\n",
       "      <td>3.0</td>\n",
       "    </tr>\n",
       "    <tr>\n",
       "      <th>879</th>\n",
       "      <td>Director</td>\n",
       "      <td>41.0</td>\n",
       "      <td>IT</td>\n",
       "      <td>12</td>\n",
       "      <td>62</td>\n",
       "      <td>355337</td>\n",
       "      <td>3.0</td>\n",
       "    </tr>\n",
       "    <tr>\n",
       "      <th>891</th>\n",
       "      <td>Director</td>\n",
       "      <td>45.0</td>\n",
       "      <td>Finance</td>\n",
       "      <td>19</td>\n",
       "      <td>40</td>\n",
       "      <td>324783</td>\n",
       "      <td>5.0</td>\n",
       "    </tr>\n",
       "    <tr>\n",
       "      <th>885</th>\n",
       "      <td>Director</td>\n",
       "      <td>42.0</td>\n",
       "      <td>Web</td>\n",
       "      <td>16</td>\n",
       "      <td>11</td>\n",
       "      <td>324129</td>\n",
       "      <td>3.0</td>\n",
       "    </tr>\n",
       "    <tr>\n",
       "      <th>881</th>\n",
       "      <td>Director</td>\n",
       "      <td>41.0</td>\n",
       "      <td>Marketing</td>\n",
       "      <td>10</td>\n",
       "      <td>67</td>\n",
       "      <td>323196</td>\n",
       "      <td>3.0</td>\n",
       "    </tr>\n",
       "    <tr>\n",
       "      <th>893</th>\n",
       "      <td>Director</td>\n",
       "      <td>45.0</td>\n",
       "      <td>Management</td>\n",
       "      <td>18</td>\n",
       "      <td>42</td>\n",
       "      <td>320148</td>\n",
       "      <td>2.0</td>\n",
       "    </tr>\n",
       "    <tr>\n",
       "      <th>874</th>\n",
       "      <td>Director</td>\n",
       "      <td>40.0</td>\n",
       "      <td>IT</td>\n",
       "      <td>15</td>\n",
       "      <td>14</td>\n",
       "      <td>319742</td>\n",
       "      <td>4.0</td>\n",
       "    </tr>\n",
       "  </tbody>\n",
       "</table>\n",
       "</div>"
      ],
      "text/plain": [
       "    DESIGNATION   AGE        UNIT  PAST EXP  Total_time_in_company  SALARY  \\\n",
       "882    Director  42.0   Marketing        18                     35  388112   \n",
       "878    Director  41.0     Finance        14                     77  375647   \n",
       "868    Director  39.0  Management        13                     17  368887   \n",
       "869    Director  39.0   Marketing        13                     37  366063   \n",
       "879    Director  41.0          IT        12                     62  355337   \n",
       "891    Director  45.0     Finance        19                     40  324783   \n",
       "885    Director  42.0         Web        16                     11  324129   \n",
       "881    Director  41.0   Marketing        10                     67  323196   \n",
       "893    Director  45.0  Management        18                     42  320148   \n",
       "874    Director  40.0          IT        15                     14  319742   \n",
       "\n",
       "     RATINGS  \n",
       "882      2.0  \n",
       "878      5.0  \n",
       "868      3.0  \n",
       "869      3.0  \n",
       "879      3.0  \n",
       "891      5.0  \n",
       "885      3.0  \n",
       "881      3.0  \n",
       "893      2.0  \n",
       "874      4.0  "
      ]
     },
     "execution_count": 18,
     "metadata": {},
     "output_type": "execute_result"
    }
   ],
   "source": [
    "data.sort_values(by='SALARY',ascending=False).head(10)"
   ]
  },
  {
   "cell_type": "code",
   "execution_count": 19,
   "id": "272c7ad6",
   "metadata": {},
   "outputs": [
    {
     "data": {
      "text/html": [
       "<div>\n",
       "<style scoped>\n",
       "    .dataframe tbody tr th:only-of-type {\n",
       "        vertical-align: middle;\n",
       "    }\n",
       "\n",
       "    .dataframe tbody tr th {\n",
       "        vertical-align: top;\n",
       "    }\n",
       "\n",
       "    .dataframe thead th {\n",
       "        text-align: right;\n",
       "    }\n",
       "</style>\n",
       "<table border=\"1\" class=\"dataframe\">\n",
       "  <thead>\n",
       "    <tr style=\"text-align: right;\">\n",
       "      <th></th>\n",
       "      <th>DESIGNATION</th>\n",
       "      <th>AGE</th>\n",
       "      <th>UNIT</th>\n",
       "      <th>PAST EXP</th>\n",
       "      <th>Total_time_in_company</th>\n",
       "      <th>SALARY</th>\n",
       "      <th>RATINGS</th>\n",
       "    </tr>\n",
       "  </thead>\n",
       "  <tbody>\n",
       "    <tr>\n",
       "      <th>0</th>\n",
       "      <td>Analyst</td>\n",
       "      <td>21.0</td>\n",
       "      <td>Finance</td>\n",
       "      <td>0</td>\n",
       "      <td>11</td>\n",
       "      <td>45774</td>\n",
       "      <td>5.0</td>\n",
       "    </tr>\n",
       "    <tr>\n",
       "      <th>583</th>\n",
       "      <td>Analyst</td>\n",
       "      <td>25.0</td>\n",
       "      <td>Finance</td>\n",
       "      <td>2</td>\n",
       "      <td>21</td>\n",
       "      <td>46350</td>\n",
       "      <td>5.0</td>\n",
       "    </tr>\n",
       "    <tr>\n",
       "      <th>573</th>\n",
       "      <td>Analyst</td>\n",
       "      <td>24.0</td>\n",
       "      <td>Web</td>\n",
       "      <td>2</td>\n",
       "      <td>16</td>\n",
       "      <td>44002</td>\n",
       "      <td>5.0</td>\n",
       "    </tr>\n",
       "    <tr>\n",
       "      <th>574</th>\n",
       "      <td>Analyst</td>\n",
       "      <td>24.0</td>\n",
       "      <td>Web</td>\n",
       "      <td>2</td>\n",
       "      <td>17</td>\n",
       "      <td>46779</td>\n",
       "      <td>5.0</td>\n",
       "    </tr>\n",
       "    <tr>\n",
       "      <th>575</th>\n",
       "      <td>Analyst</td>\n",
       "      <td>25.0</td>\n",
       "      <td>Finance</td>\n",
       "      <td>1</td>\n",
       "      <td>31</td>\n",
       "      <td>43884</td>\n",
       "      <td>5.0</td>\n",
       "    </tr>\n",
       "    <tr>\n",
       "      <th>577</th>\n",
       "      <td>Analyst</td>\n",
       "      <td>25.0</td>\n",
       "      <td>Finance</td>\n",
       "      <td>1</td>\n",
       "      <td>33</td>\n",
       "      <td>46659</td>\n",
       "      <td>5.0</td>\n",
       "    </tr>\n",
       "    <tr>\n",
       "      <th>578</th>\n",
       "      <td>Analyst</td>\n",
       "      <td>25.0</td>\n",
       "      <td>Finance</td>\n",
       "      <td>1</td>\n",
       "      <td>34</td>\n",
       "      <td>48458</td>\n",
       "      <td>5.0</td>\n",
       "    </tr>\n",
       "    <tr>\n",
       "      <th>579</th>\n",
       "      <td>Analyst</td>\n",
       "      <td>25.0</td>\n",
       "      <td>Finance</td>\n",
       "      <td>1</td>\n",
       "      <td>36</td>\n",
       "      <td>44354</td>\n",
       "      <td>5.0</td>\n",
       "    </tr>\n",
       "    <tr>\n",
       "      <th>581</th>\n",
       "      <td>Analyst</td>\n",
       "      <td>25.0</td>\n",
       "      <td>Finance</td>\n",
       "      <td>2</td>\n",
       "      <td>19</td>\n",
       "      <td>45081</td>\n",
       "      <td>5.0</td>\n",
       "    </tr>\n",
       "    <tr>\n",
       "      <th>582</th>\n",
       "      <td>Analyst</td>\n",
       "      <td>25.0</td>\n",
       "      <td>Finance</td>\n",
       "      <td>2</td>\n",
       "      <td>20</td>\n",
       "      <td>48784</td>\n",
       "      <td>5.0</td>\n",
       "    </tr>\n",
       "  </tbody>\n",
       "</table>\n",
       "</div>"
      ],
      "text/plain": [
       "    DESIGNATION   AGE     UNIT  PAST EXP  Total_time_in_company  SALARY  \\\n",
       "0       Analyst  21.0  Finance         0                     11   45774   \n",
       "583     Analyst  25.0  Finance         2                     21   46350   \n",
       "573     Analyst  24.0      Web         2                     16   44002   \n",
       "574     Analyst  24.0      Web         2                     17   46779   \n",
       "575     Analyst  25.0  Finance         1                     31   43884   \n",
       "577     Analyst  25.0  Finance         1                     33   46659   \n",
       "578     Analyst  25.0  Finance         1                     34   48458   \n",
       "579     Analyst  25.0  Finance         1                     36   44354   \n",
       "581     Analyst  25.0  Finance         2                     19   45081   \n",
       "582     Analyst  25.0  Finance         2                     20   48784   \n",
       "\n",
       "     RATINGS  \n",
       "0        5.0  \n",
       "583      5.0  \n",
       "573      5.0  \n",
       "574      5.0  \n",
       "575      5.0  \n",
       "577      5.0  \n",
       "578      5.0  \n",
       "579      5.0  \n",
       "581      5.0  \n",
       "582      5.0  "
      ]
     },
     "execution_count": 19,
     "metadata": {},
     "output_type": "execute_result"
    }
   ],
   "source": [
    "data.sort_values(by='RATINGS',ascending=False).head(10)"
   ]
  },
  {
   "cell_type": "code",
   "execution_count": 20,
   "id": "37f6af51",
   "metadata": {},
   "outputs": [],
   "source": [
    "df['UNIT'].unique()\n",
    "df['UNIT']=df['UNIT'].map({'Finance':1,'Web':2,'IT':3,'Operations':4,'Marketing':5,'Management':6})"
   ]
  },
  {
   "cell_type": "code",
   "execution_count": 21,
   "id": "8607065b",
   "metadata": {},
   "outputs": [
    {
     "data": {
      "text/plain": [
       "array(['Analyst', 'Senior Analyst', 'Associate', 'Senior Manager',\n",
       "       'Manager', 'Director'], dtype=object)"
      ]
     },
     "execution_count": 21,
     "metadata": {},
     "output_type": "execute_result"
    }
   ],
   "source": [
    "df[\"DESIGNATION\"].unique()\n",
    "#df[\"DESIGNATION\"]=df[\"DESIGNATION\"].map({'Analyst':0, 'Senior Analyst':1, 'Associate':2, 'Senior Manager':3,'Manager':4, 'Director':5})"
   ]
  },
  {
   "cell_type": "code",
   "execution_count": 22,
   "id": "ec6b1d13",
   "metadata": {},
   "outputs": [],
   "source": [
    "# since designation is a ordinal categorical variable and we cant use it for dummy variable\n",
    "# and we want to give value them using their seniority.\n",
    "from sklearn.preprocessing import LabelEncoder\n",
    "\n",
    "# Create a LabelEncoder object\n",
    "label_encoder = LabelEncoder()\n",
    "\n",
    "# Fit and transform the data\n",
    "df['DESIGNATION']= label_encoder.fit_transform(df['DESIGNATION'])\n",
    "\n"
   ]
  },
  {
   "cell_type": "code",
   "execution_count": 23,
   "id": "ace9c85b",
   "metadata": {},
   "outputs": [
    {
     "data": {
      "text/plain": [
       "array([0, 4, 1, 5, 3, 2])"
      ]
     },
     "execution_count": 23,
     "metadata": {},
     "output_type": "execute_result"
    }
   ],
   "source": [
    "df['DESIGNATION'].unique()"
   ]
  },
  {
   "cell_type": "code",
   "execution_count": 24,
   "id": "46dde6b9",
   "metadata": {},
   "outputs": [],
   "source": [
    "df['SEX'].unique()\n",
    "df['SEX']=df['SEX'].map({'F':0, 'M':1})"
   ]
  },
  {
   "cell_type": "code",
   "execution_count": 25,
   "id": "7aa3be55",
   "metadata": {},
   "outputs": [
    {
     "name": "stdout",
     "output_type": "stream",
     "text": [
      "<class 'pandas.core.frame.DataFrame'>\n",
      "Index: 2631 entries, 0 to 2638\n",
      "Data columns (total 12 columns):\n",
      " #   Column                 Non-Null Count  Dtype  \n",
      "---  ------                 --------------  -----  \n",
      " 0   FIRST NAME             2631 non-null   object \n",
      " 1   LAST NAME              2631 non-null   object \n",
      " 2   SEX                    2631 non-null   int64  \n",
      " 3   DESIGNATION            2631 non-null   int32  \n",
      " 4   AGE                    2631 non-null   float64\n",
      " 5   SALARY                 2631 non-null   int64  \n",
      " 6   UNIT                   2631 non-null   int64  \n",
      " 7   LEAVES USED            2631 non-null   float64\n",
      " 8   LEAVES REMAINING       2631 non-null   float64\n",
      " 9   RATINGS                2631 non-null   float64\n",
      " 10  PAST EXP               2631 non-null   int64  \n",
      " 11  Total_time_in_company  2631 non-null   int32  \n",
      "dtypes: float64(4), int32(2), int64(4), object(2)\n",
      "memory usage: 246.7+ KB\n"
     ]
    }
   ],
   "source": [
    "df.info()"
   ]
  },
  {
   "cell_type": "code",
   "execution_count": 26,
   "id": "0b245aea",
   "metadata": {},
   "outputs": [],
   "source": [
    "df['NAME']=df['FIRST NAME']+' '+df['LAST NAME']"
   ]
  },
  {
   "cell_type": "code",
   "execution_count": 27,
   "id": "8d3f5202",
   "metadata": {},
   "outputs": [
    {
     "data": {
      "text/html": [
       "<div>\n",
       "<style scoped>\n",
       "    .dataframe tbody tr th:only-of-type {\n",
       "        vertical-align: middle;\n",
       "    }\n",
       "\n",
       "    .dataframe tbody tr th {\n",
       "        vertical-align: top;\n",
       "    }\n",
       "\n",
       "    .dataframe thead th {\n",
       "        text-align: right;\n",
       "    }\n",
       "</style>\n",
       "<table border=\"1\" class=\"dataframe\">\n",
       "  <thead>\n",
       "    <tr style=\"text-align: right;\">\n",
       "      <th></th>\n",
       "      <th>FIRST NAME</th>\n",
       "      <th>LAST NAME</th>\n",
       "      <th>SEX</th>\n",
       "      <th>DESIGNATION</th>\n",
       "      <th>AGE</th>\n",
       "      <th>SALARY</th>\n",
       "      <th>UNIT</th>\n",
       "      <th>LEAVES USED</th>\n",
       "      <th>LEAVES REMAINING</th>\n",
       "      <th>RATINGS</th>\n",
       "      <th>PAST EXP</th>\n",
       "      <th>Total_time_in_company</th>\n",
       "      <th>NAME</th>\n",
       "    </tr>\n",
       "  </thead>\n",
       "  <tbody>\n",
       "    <tr>\n",
       "      <th>0</th>\n",
       "      <td>TOMASA</td>\n",
       "      <td>ARMEN</td>\n",
       "      <td>0</td>\n",
       "      <td>0</td>\n",
       "      <td>21.0</td>\n",
       "      <td>44570</td>\n",
       "      <td>1</td>\n",
       "      <td>24.0</td>\n",
       "      <td>6.0</td>\n",
       "      <td>2.0</td>\n",
       "      <td>0</td>\n",
       "      <td>19</td>\n",
       "      <td>TOMASA ARMEN</td>\n",
       "    </tr>\n",
       "    <tr>\n",
       "      <th>2</th>\n",
       "      <td>OLIVE</td>\n",
       "      <td>ANCY</td>\n",
       "      <td>0</td>\n",
       "      <td>0</td>\n",
       "      <td>21.0</td>\n",
       "      <td>40955</td>\n",
       "      <td>1</td>\n",
       "      <td>23.0</td>\n",
       "      <td>7.0</td>\n",
       "      <td>3.0</td>\n",
       "      <td>0</td>\n",
       "      <td>17</td>\n",
       "      <td>OLIVE ANCY</td>\n",
       "    </tr>\n",
       "    <tr>\n",
       "      <th>3</th>\n",
       "      <td>CHERRY</td>\n",
       "      <td>AQUILAR</td>\n",
       "      <td>0</td>\n",
       "      <td>0</td>\n",
       "      <td>22.0</td>\n",
       "      <td>45550</td>\n",
       "      <td>3</td>\n",
       "      <td>22.0</td>\n",
       "      <td>8.0</td>\n",
       "      <td>3.0</td>\n",
       "      <td>0</td>\n",
       "      <td>33</td>\n",
       "      <td>CHERRY AQUILAR</td>\n",
       "    </tr>\n",
       "    <tr>\n",
       "      <th>6</th>\n",
       "      <td>ELLIOT</td>\n",
       "      <td>AGULAR</td>\n",
       "      <td>1</td>\n",
       "      <td>0</td>\n",
       "      <td>22.0</td>\n",
       "      <td>40339</td>\n",
       "      <td>5</td>\n",
       "      <td>19.0</td>\n",
       "      <td>11.0</td>\n",
       "      <td>5.0</td>\n",
       "      <td>0</td>\n",
       "      <td>28</td>\n",
       "      <td>ELLIOT AGULAR</td>\n",
       "    </tr>\n",
       "    <tr>\n",
       "      <th>8</th>\n",
       "      <td>KATHY</td>\n",
       "      <td>ALSOP</td>\n",
       "      <td>0</td>\n",
       "      <td>4</td>\n",
       "      <td>28.0</td>\n",
       "      <td>63478</td>\n",
       "      <td>4</td>\n",
       "      <td>20.0</td>\n",
       "      <td>10.0</td>\n",
       "      <td>3.0</td>\n",
       "      <td>1</td>\n",
       "      <td>18</td>\n",
       "      <td>KATHY ALSOP</td>\n",
       "    </tr>\n",
       "  </tbody>\n",
       "</table>\n",
       "</div>"
      ],
      "text/plain": [
       "  FIRST NAME LAST NAME  SEX  DESIGNATION   AGE  SALARY  UNIT  LEAVES USED  \\\n",
       "0     TOMASA     ARMEN    0            0  21.0   44570     1         24.0   \n",
       "2      OLIVE      ANCY    0            0  21.0   40955     1         23.0   \n",
       "3     CHERRY   AQUILAR    0            0  22.0   45550     3         22.0   \n",
       "6     ELLIOT    AGULAR    1            0  22.0   40339     5         19.0   \n",
       "8      KATHY     ALSOP    0            4  28.0   63478     4         20.0   \n",
       "\n",
       "   LEAVES REMAINING  RATINGS  PAST EXP  Total_time_in_company            NAME  \n",
       "0               6.0      2.0         0                     19    TOMASA ARMEN  \n",
       "2               7.0      3.0         0                     17      OLIVE ANCY  \n",
       "3               8.0      3.0         0                     33  CHERRY AQUILAR  \n",
       "6              11.0      5.0         0                     28   ELLIOT AGULAR  \n",
       "8              10.0      3.0         1                     18     KATHY ALSOP  "
      ]
     },
     "execution_count": 27,
     "metadata": {},
     "output_type": "execute_result"
    }
   ],
   "source": [
    "df.head()"
   ]
  },
  {
   "cell_type": "code",
   "execution_count": 28,
   "id": "880eac00",
   "metadata": {},
   "outputs": [],
   "source": [
    "df.drop(['FIRST NAME','LAST NAME'],axis=1,inplace=True)"
   ]
  },
  {
   "cell_type": "code",
   "execution_count": 29,
   "id": "d72005fc",
   "metadata": {},
   "outputs": [
    {
     "data": {
      "text/html": [
       "<div>\n",
       "<style scoped>\n",
       "    .dataframe tbody tr th:only-of-type {\n",
       "        vertical-align: middle;\n",
       "    }\n",
       "\n",
       "    .dataframe tbody tr th {\n",
       "        vertical-align: top;\n",
       "    }\n",
       "\n",
       "    .dataframe thead th {\n",
       "        text-align: right;\n",
       "    }\n",
       "</style>\n",
       "<table border=\"1\" class=\"dataframe\">\n",
       "  <thead>\n",
       "    <tr style=\"text-align: right;\">\n",
       "      <th></th>\n",
       "      <th>SEX</th>\n",
       "      <th>DESIGNATION</th>\n",
       "      <th>AGE</th>\n",
       "      <th>SALARY</th>\n",
       "      <th>UNIT</th>\n",
       "      <th>LEAVES USED</th>\n",
       "      <th>LEAVES REMAINING</th>\n",
       "      <th>RATINGS</th>\n",
       "      <th>PAST EXP</th>\n",
       "      <th>Total_time_in_company</th>\n",
       "    </tr>\n",
       "  </thead>\n",
       "  <tbody>\n",
       "    <tr>\n",
       "      <th>0</th>\n",
       "      <td>0</td>\n",
       "      <td>0</td>\n",
       "      <td>21.0</td>\n",
       "      <td>44570</td>\n",
       "      <td>1</td>\n",
       "      <td>24.0</td>\n",
       "      <td>6.0</td>\n",
       "      <td>2.0</td>\n",
       "      <td>0</td>\n",
       "      <td>19</td>\n",
       "    </tr>\n",
       "    <tr>\n",
       "      <th>2</th>\n",
       "      <td>0</td>\n",
       "      <td>0</td>\n",
       "      <td>21.0</td>\n",
       "      <td>40955</td>\n",
       "      <td>1</td>\n",
       "      <td>23.0</td>\n",
       "      <td>7.0</td>\n",
       "      <td>3.0</td>\n",
       "      <td>0</td>\n",
       "      <td>17</td>\n",
       "    </tr>\n",
       "    <tr>\n",
       "      <th>3</th>\n",
       "      <td>0</td>\n",
       "      <td>0</td>\n",
       "      <td>22.0</td>\n",
       "      <td>45550</td>\n",
       "      <td>3</td>\n",
       "      <td>22.0</td>\n",
       "      <td>8.0</td>\n",
       "      <td>3.0</td>\n",
       "      <td>0</td>\n",
       "      <td>33</td>\n",
       "    </tr>\n",
       "    <tr>\n",
       "      <th>6</th>\n",
       "      <td>1</td>\n",
       "      <td>0</td>\n",
       "      <td>22.0</td>\n",
       "      <td>40339</td>\n",
       "      <td>5</td>\n",
       "      <td>19.0</td>\n",
       "      <td>11.0</td>\n",
       "      <td>5.0</td>\n",
       "      <td>0</td>\n",
       "      <td>28</td>\n",
       "    </tr>\n",
       "    <tr>\n",
       "      <th>8</th>\n",
       "      <td>0</td>\n",
       "      <td>4</td>\n",
       "      <td>28.0</td>\n",
       "      <td>63478</td>\n",
       "      <td>4</td>\n",
       "      <td>20.0</td>\n",
       "      <td>10.0</td>\n",
       "      <td>3.0</td>\n",
       "      <td>1</td>\n",
       "      <td>18</td>\n",
       "    </tr>\n",
       "    <tr>\n",
       "      <th>...</th>\n",
       "      <td>...</td>\n",
       "      <td>...</td>\n",
       "      <td>...</td>\n",
       "      <td>...</td>\n",
       "      <td>...</td>\n",
       "      <td>...</td>\n",
       "      <td>...</td>\n",
       "      <td>...</td>\n",
       "      <td>...</td>\n",
       "      <td>...</td>\n",
       "    </tr>\n",
       "    <tr>\n",
       "      <th>2634</th>\n",
       "      <td>0</td>\n",
       "      <td>5</td>\n",
       "      <td>36.0</td>\n",
       "      <td>185977</td>\n",
       "      <td>6</td>\n",
       "      <td>15.0</td>\n",
       "      <td>15.0</td>\n",
       "      <td>5.0</td>\n",
       "      <td>10</td>\n",
       "      <td>55</td>\n",
       "    </tr>\n",
       "    <tr>\n",
       "      <th>2635</th>\n",
       "      <td>0</td>\n",
       "      <td>0</td>\n",
       "      <td>23.0</td>\n",
       "      <td>45758</td>\n",
       "      <td>3</td>\n",
       "      <td>17.0</td>\n",
       "      <td>13.0</td>\n",
       "      <td>2.0</td>\n",
       "      <td>0</td>\n",
       "      <td>24</td>\n",
       "    </tr>\n",
       "    <tr>\n",
       "      <th>2636</th>\n",
       "      <td>0</td>\n",
       "      <td>0</td>\n",
       "      <td>21.0</td>\n",
       "      <td>47315</td>\n",
       "      <td>2</td>\n",
       "      <td>29.0</td>\n",
       "      <td>1.0</td>\n",
       "      <td>5.0</td>\n",
       "      <td>0</td>\n",
       "      <td>23</td>\n",
       "    </tr>\n",
       "    <tr>\n",
       "      <th>2637</th>\n",
       "      <td>0</td>\n",
       "      <td>0</td>\n",
       "      <td>24.0</td>\n",
       "      <td>45172</td>\n",
       "      <td>2</td>\n",
       "      <td>23.0</td>\n",
       "      <td>7.0</td>\n",
       "      <td>3.0</td>\n",
       "      <td>1</td>\n",
       "      <td>22</td>\n",
       "    </tr>\n",
       "    <tr>\n",
       "      <th>2638</th>\n",
       "      <td>1</td>\n",
       "      <td>0</td>\n",
       "      <td>24.0</td>\n",
       "      <td>49176</td>\n",
       "      <td>5</td>\n",
       "      <td>17.0</td>\n",
       "      <td>13.0</td>\n",
       "      <td>2.0</td>\n",
       "      <td>2</td>\n",
       "      <td>15</td>\n",
       "    </tr>\n",
       "  </tbody>\n",
       "</table>\n",
       "<p>2631 rows × 10 columns</p>\n",
       "</div>"
      ],
      "text/plain": [
       "      SEX  DESIGNATION   AGE  SALARY  UNIT  LEAVES USED  LEAVES REMAINING  \\\n",
       "0       0            0  21.0   44570     1         24.0               6.0   \n",
       "2       0            0  21.0   40955     1         23.0               7.0   \n",
       "3       0            0  22.0   45550     3         22.0               8.0   \n",
       "6       1            0  22.0   40339     5         19.0              11.0   \n",
       "8       0            4  28.0   63478     4         20.0              10.0   \n",
       "...   ...          ...   ...     ...   ...          ...               ...   \n",
       "2634    0            5  36.0  185977     6         15.0              15.0   \n",
       "2635    0            0  23.0   45758     3         17.0              13.0   \n",
       "2636    0            0  21.0   47315     2         29.0               1.0   \n",
       "2637    0            0  24.0   45172     2         23.0               7.0   \n",
       "2638    1            0  24.0   49176     5         17.0              13.0   \n",
       "\n",
       "      RATINGS  PAST EXP  Total_time_in_company  \n",
       "0         2.0         0                     19  \n",
       "2         3.0         0                     17  \n",
       "3         3.0         0                     33  \n",
       "6         5.0         0                     28  \n",
       "8         3.0         1                     18  \n",
       "...       ...       ...                    ...  \n",
       "2634      5.0        10                     55  \n",
       "2635      2.0         0                     24  \n",
       "2636      5.0         0                     23  \n",
       "2637      3.0         1                     22  \n",
       "2638      2.0         2                     15  \n",
       "\n",
       "[2631 rows x 10 columns]"
      ]
     },
     "execution_count": 29,
     "metadata": {},
     "output_type": "execute_result"
    }
   ],
   "source": [
    "df1=df.iloc[:,:-1]\n",
    "df1"
   ]
  },
  {
   "cell_type": "code",
   "execution_count": 30,
   "id": "9ee3b617",
   "metadata": {},
   "outputs": [
    {
     "data": {
      "text/html": [
       "<div>\n",
       "<style scoped>\n",
       "    .dataframe tbody tr th:only-of-type {\n",
       "        vertical-align: middle;\n",
       "    }\n",
       "\n",
       "    .dataframe tbody tr th {\n",
       "        vertical-align: top;\n",
       "    }\n",
       "\n",
       "    .dataframe thead th {\n",
       "        text-align: right;\n",
       "    }\n",
       "</style>\n",
       "<table border=\"1\" class=\"dataframe\">\n",
       "  <thead>\n",
       "    <tr style=\"text-align: right;\">\n",
       "      <th></th>\n",
       "      <th>SEX</th>\n",
       "      <th>DESIGNATION</th>\n",
       "      <th>AGE</th>\n",
       "      <th>SALARY</th>\n",
       "      <th>UNIT</th>\n",
       "      <th>LEAVES USED</th>\n",
       "      <th>LEAVES REMAINING</th>\n",
       "      <th>RATINGS</th>\n",
       "      <th>PAST EXP</th>\n",
       "      <th>Total_time_in_company</th>\n",
       "    </tr>\n",
       "  </thead>\n",
       "  <tbody>\n",
       "    <tr>\n",
       "      <th>SEX</th>\n",
       "      <td>1.000000</td>\n",
       "      <td>0.001672</td>\n",
       "      <td>-0.016458</td>\n",
       "      <td>-0.028537</td>\n",
       "      <td>0.019135</td>\n",
       "      <td>0.010609</td>\n",
       "      <td>-0.010609</td>\n",
       "      <td>-0.038273</td>\n",
       "      <td>-0.022794</td>\n",
       "      <td>-0.007756</td>\n",
       "    </tr>\n",
       "    <tr>\n",
       "      <th>DESIGNATION</th>\n",
       "      <td>0.001672</td>\n",
       "      <td>1.000000</td>\n",
       "      <td>0.626404</td>\n",
       "      <td>0.496911</td>\n",
       "      <td>0.011358</td>\n",
       "      <td>-0.000216</td>\n",
       "      <td>0.000216</td>\n",
       "      <td>0.014781</td>\n",
       "      <td>0.457396</td>\n",
       "      <td>0.346846</td>\n",
       "    </tr>\n",
       "    <tr>\n",
       "      <th>AGE</th>\n",
       "      <td>-0.016458</td>\n",
       "      <td>0.626404</td>\n",
       "      <td>1.000000</td>\n",
       "      <td>0.871929</td>\n",
       "      <td>0.007580</td>\n",
       "      <td>0.007143</td>\n",
       "      <td>-0.007143</td>\n",
       "      <td>0.039134</td>\n",
       "      <td>0.903659</td>\n",
       "      <td>0.458761</td>\n",
       "    </tr>\n",
       "    <tr>\n",
       "      <th>SALARY</th>\n",
       "      <td>-0.028537</td>\n",
       "      <td>0.496911</td>\n",
       "      <td>0.871929</td>\n",
       "      <td>1.000000</td>\n",
       "      <td>0.009109</td>\n",
       "      <td>0.006850</td>\n",
       "      <td>-0.006850</td>\n",
       "      <td>0.021702</td>\n",
       "      <td>0.854024</td>\n",
       "      <td>0.434850</td>\n",
       "    </tr>\n",
       "    <tr>\n",
       "      <th>UNIT</th>\n",
       "      <td>0.019135</td>\n",
       "      <td>0.011358</td>\n",
       "      <td>0.007580</td>\n",
       "      <td>0.009109</td>\n",
       "      <td>1.000000</td>\n",
       "      <td>0.007757</td>\n",
       "      <td>-0.007757</td>\n",
       "      <td>0.023897</td>\n",
       "      <td>0.002491</td>\n",
       "      <td>0.005337</td>\n",
       "    </tr>\n",
       "    <tr>\n",
       "      <th>LEAVES USED</th>\n",
       "      <td>0.010609</td>\n",
       "      <td>-0.000216</td>\n",
       "      <td>0.007143</td>\n",
       "      <td>0.006850</td>\n",
       "      <td>0.007757</td>\n",
       "      <td>1.000000</td>\n",
       "      <td>-1.000000</td>\n",
       "      <td>0.004352</td>\n",
       "      <td>0.007832</td>\n",
       "      <td>0.013198</td>\n",
       "    </tr>\n",
       "    <tr>\n",
       "      <th>LEAVES REMAINING</th>\n",
       "      <td>-0.010609</td>\n",
       "      <td>0.000216</td>\n",
       "      <td>-0.007143</td>\n",
       "      <td>-0.006850</td>\n",
       "      <td>-0.007757</td>\n",
       "      <td>-1.000000</td>\n",
       "      <td>1.000000</td>\n",
       "      <td>-0.004352</td>\n",
       "      <td>-0.007832</td>\n",
       "      <td>-0.013198</td>\n",
       "    </tr>\n",
       "    <tr>\n",
       "      <th>RATINGS</th>\n",
       "      <td>-0.038273</td>\n",
       "      <td>0.014781</td>\n",
       "      <td>0.039134</td>\n",
       "      <td>0.021702</td>\n",
       "      <td>0.023897</td>\n",
       "      <td>0.004352</td>\n",
       "      <td>-0.004352</td>\n",
       "      <td>1.000000</td>\n",
       "      <td>0.042497</td>\n",
       "      <td>0.016660</td>\n",
       "    </tr>\n",
       "    <tr>\n",
       "      <th>PAST EXP</th>\n",
       "      <td>-0.022794</td>\n",
       "      <td>0.457396</td>\n",
       "      <td>0.903659</td>\n",
       "      <td>0.854024</td>\n",
       "      <td>0.002491</td>\n",
       "      <td>0.007832</td>\n",
       "      <td>-0.007832</td>\n",
       "      <td>0.042497</td>\n",
       "      <td>1.000000</td>\n",
       "      <td>0.220933</td>\n",
       "    </tr>\n",
       "    <tr>\n",
       "      <th>Total_time_in_company</th>\n",
       "      <td>-0.007756</td>\n",
       "      <td>0.346846</td>\n",
       "      <td>0.458761</td>\n",
       "      <td>0.434850</td>\n",
       "      <td>0.005337</td>\n",
       "      <td>0.013198</td>\n",
       "      <td>-0.013198</td>\n",
       "      <td>0.016660</td>\n",
       "      <td>0.220933</td>\n",
       "      <td>1.000000</td>\n",
       "    </tr>\n",
       "  </tbody>\n",
       "</table>\n",
       "</div>"
      ],
      "text/plain": [
       "                            SEX  DESIGNATION       AGE    SALARY      UNIT  \\\n",
       "SEX                    1.000000     0.001672 -0.016458 -0.028537  0.019135   \n",
       "DESIGNATION            0.001672     1.000000  0.626404  0.496911  0.011358   \n",
       "AGE                   -0.016458     0.626404  1.000000  0.871929  0.007580   \n",
       "SALARY                -0.028537     0.496911  0.871929  1.000000  0.009109   \n",
       "UNIT                   0.019135     0.011358  0.007580  0.009109  1.000000   \n",
       "LEAVES USED            0.010609    -0.000216  0.007143  0.006850  0.007757   \n",
       "LEAVES REMAINING      -0.010609     0.000216 -0.007143 -0.006850 -0.007757   \n",
       "RATINGS               -0.038273     0.014781  0.039134  0.021702  0.023897   \n",
       "PAST EXP              -0.022794     0.457396  0.903659  0.854024  0.002491   \n",
       "Total_time_in_company -0.007756     0.346846  0.458761  0.434850  0.005337   \n",
       "\n",
       "                       LEAVES USED  LEAVES REMAINING   RATINGS  PAST EXP  \\\n",
       "SEX                       0.010609         -0.010609 -0.038273 -0.022794   \n",
       "DESIGNATION              -0.000216          0.000216  0.014781  0.457396   \n",
       "AGE                       0.007143         -0.007143  0.039134  0.903659   \n",
       "SALARY                    0.006850         -0.006850  0.021702  0.854024   \n",
       "UNIT                      0.007757         -0.007757  0.023897  0.002491   \n",
       "LEAVES USED               1.000000         -1.000000  0.004352  0.007832   \n",
       "LEAVES REMAINING         -1.000000          1.000000 -0.004352 -0.007832   \n",
       "RATINGS                   0.004352         -0.004352  1.000000  0.042497   \n",
       "PAST EXP                  0.007832         -0.007832  0.042497  1.000000   \n",
       "Total_time_in_company     0.013198         -0.013198  0.016660  0.220933   \n",
       "\n",
       "                       Total_time_in_company  \n",
       "SEX                                -0.007756  \n",
       "DESIGNATION                         0.346846  \n",
       "AGE                                 0.458761  \n",
       "SALARY                              0.434850  \n",
       "UNIT                                0.005337  \n",
       "LEAVES USED                         0.013198  \n",
       "LEAVES REMAINING                   -0.013198  \n",
       "RATINGS                             0.016660  \n",
       "PAST EXP                            0.220933  \n",
       "Total_time_in_company               1.000000  "
      ]
     },
     "execution_count": 30,
     "metadata": {},
     "output_type": "execute_result"
    }
   ],
   "source": [
    "cor=df1.corr()\n",
    "cor\n"
   ]
  },
  {
   "cell_type": "code",
   "execution_count": 31,
   "id": "526e7f4c",
   "metadata": {},
   "outputs": [
    {
     "data": {
      "text/plain": [
       "SEX                      1.000000\n",
       "DESIGNATION              0.001672\n",
       "AGE                     -0.016458\n",
       "SALARY                  -0.028537\n",
       "UNIT                     0.019135\n",
       "LEAVES USED              0.010609\n",
       "LEAVES REMAINING        -0.010609\n",
       "RATINGS                 -0.038273\n",
       "PAST EXP                -0.022794\n",
       "Total_time_in_company   -0.007756\n",
       "Name: SEX, dtype: float64"
      ]
     },
     "execution_count": 31,
     "metadata": {},
     "output_type": "execute_result"
    }
   ],
   "source": [
    "cor['SEX']"
   ]
  },
  {
   "cell_type": "code",
   "execution_count": 32,
   "id": "f6543460",
   "metadata": {},
   "outputs": [
    {
     "data": {
      "image/png": "[encoded data removed]",
      "text/plain": [
       "<Figure size 1000x800 with 2 Axes>"
      ]
     },
     "metadata": {},
     "output_type": "display_data"
    }
   ],
   "source": [
    "\n",
    "# Plotting the correlation matrix\n",
    "plt.figure(figsize=(10, 8))\n",
    "sns.heatmap(cor, annot=True, cmap='coolwarm', fmt=\".2f\", linewidths=.5)\n",
    "plt.title(\"Correlation Matrix\")\n",
    "plt.show()\n"
   ]
  },
  {
   "cell_type": "code",
   "execution_count": 33,
   "id": "982fcf7f",
   "metadata": {},
   "outputs": [],
   "source": [
    "# here we can judge that leaves remaining and leaves used have highly negative corelation and it couldnot affect the \n",
    "# target variavle as well so we can drop one of them.\n",
    "df1.drop('LEAVES USED',axis=1,inplace=True)"
   ]
  },
  {
   "cell_type": "code",
   "execution_count": 34,
   "id": "fbbdc452",
   "metadata": {},
   "outputs": [
    {
     "data": {
      "text/html": [
       "<div>\n",
       "<style scoped>\n",
       "    .dataframe tbody tr th:only-of-type {\n",
       "        vertical-align: middle;\n",
       "    }\n",
       "\n",
       "    .dataframe tbody tr th {\n",
       "        vertical-align: top;\n",
       "    }\n",
       "\n",
       "    .dataframe thead th {\n",
       "        text-align: right;\n",
       "    }\n",
       "</style>\n",
       "<table border=\"1\" class=\"dataframe\">\n",
       "  <thead>\n",
       "    <tr style=\"text-align: right;\">\n",
       "      <th></th>\n",
       "      <th>SEX</th>\n",
       "      <th>DESIGNATION</th>\n",
       "      <th>AGE</th>\n",
       "      <th>SALARY</th>\n",
       "      <th>UNIT</th>\n",
       "      <th>LEAVES REMAINING</th>\n",
       "      <th>RATINGS</th>\n",
       "      <th>PAST EXP</th>\n",
       "      <th>Total_time_in_company</th>\n",
       "    </tr>\n",
       "  </thead>\n",
       "  <tbody>\n",
       "    <tr>\n",
       "      <th>SEX</th>\n",
       "      <td>1.000000</td>\n",
       "      <td>0.001672</td>\n",
       "      <td>-0.016458</td>\n",
       "      <td>-0.028537</td>\n",
       "      <td>0.019135</td>\n",
       "      <td>-0.010609</td>\n",
       "      <td>-0.038273</td>\n",
       "      <td>-0.022794</td>\n",
       "      <td>-0.007756</td>\n",
       "    </tr>\n",
       "    <tr>\n",
       "      <th>DESIGNATION</th>\n",
       "      <td>0.001672</td>\n",
       "      <td>1.000000</td>\n",
       "      <td>0.626404</td>\n",
       "      <td>0.496911</td>\n",
       "      <td>0.011358</td>\n",
       "      <td>0.000216</td>\n",
       "      <td>0.014781</td>\n",
       "      <td>0.457396</td>\n",
       "      <td>0.346846</td>\n",
       "    </tr>\n",
       "    <tr>\n",
       "      <th>AGE</th>\n",
       "      <td>-0.016458</td>\n",
       "      <td>0.626404</td>\n",
       "      <td>1.000000</td>\n",
       "      <td>0.871929</td>\n",
       "      <td>0.007580</td>\n",
       "      <td>-0.007143</td>\n",
       "      <td>0.039134</td>\n",
       "      <td>0.903659</td>\n",
       "      <td>0.458761</td>\n",
       "    </tr>\n",
       "    <tr>\n",
       "      <th>SALARY</th>\n",
       "      <td>-0.028537</td>\n",
       "      <td>0.496911</td>\n",
       "      <td>0.871929</td>\n",
       "      <td>1.000000</td>\n",
       "      <td>0.009109</td>\n",
       "      <td>-0.006850</td>\n",
       "      <td>0.021702</td>\n",
       "      <td>0.854024</td>\n",
       "      <td>0.434850</td>\n",
       "    </tr>\n",
       "    <tr>\n",
       "      <th>UNIT</th>\n",
       "      <td>0.019135</td>\n",
       "      <td>0.011358</td>\n",
       "      <td>0.007580</td>\n",
       "      <td>0.009109</td>\n",
       "      <td>1.000000</td>\n",
       "      <td>-0.007757</td>\n",
       "      <td>0.023897</td>\n",
       "      <td>0.002491</td>\n",
       "      <td>0.005337</td>\n",
       "    </tr>\n",
       "    <tr>\n",
       "      <th>LEAVES REMAINING</th>\n",
       "      <td>-0.010609</td>\n",
       "      <td>0.000216</td>\n",
       "      <td>-0.007143</td>\n",
       "      <td>-0.006850</td>\n",
       "      <td>-0.007757</td>\n",
       "      <td>1.000000</td>\n",
       "      <td>-0.004352</td>\n",
       "      <td>-0.007832</td>\n",
       "      <td>-0.013198</td>\n",
       "    </tr>\n",
       "    <tr>\n",
       "      <th>RATINGS</th>\n",
       "      <td>-0.038273</td>\n",
       "      <td>0.014781</td>\n",
       "      <td>0.039134</td>\n",
       "      <td>0.021702</td>\n",
       "      <td>0.023897</td>\n",
       "      <td>-0.004352</td>\n",
       "      <td>1.000000</td>\n",
       "      <td>0.042497</td>\n",
       "      <td>0.016660</td>\n",
       "    </tr>\n",
       "    <tr>\n",
       "      <th>PAST EXP</th>\n",
       "      <td>-0.022794</td>\n",
       "      <td>0.457396</td>\n",
       "      <td>0.903659</td>\n",
       "      <td>0.854024</td>\n",
       "      <td>0.002491</td>\n",
       "      <td>-0.007832</td>\n",
       "      <td>0.042497</td>\n",
       "      <td>1.000000</td>\n",
       "      <td>0.220933</td>\n",
       "    </tr>\n",
       "    <tr>\n",
       "      <th>Total_time_in_company</th>\n",
       "      <td>-0.007756</td>\n",
       "      <td>0.346846</td>\n",
       "      <td>0.458761</td>\n",
       "      <td>0.434850</td>\n",
       "      <td>0.005337</td>\n",
       "      <td>-0.013198</td>\n",
       "      <td>0.016660</td>\n",
       "      <td>0.220933</td>\n",
       "      <td>1.000000</td>\n",
       "    </tr>\n",
       "  </tbody>\n",
       "</table>\n",
       "</div>"
      ],
      "text/plain": [
       "                            SEX  DESIGNATION       AGE    SALARY      UNIT  \\\n",
       "SEX                    1.000000     0.001672 -0.016458 -0.028537  0.019135   \n",
       "DESIGNATION            0.001672     1.000000  0.626404  0.496911  0.011358   \n",
       "AGE                   -0.016458     0.626404  1.000000  0.871929  0.007580   \n",
       "SALARY                -0.028537     0.496911  0.871929  1.000000  0.009109   \n",
       "UNIT                   0.019135     0.011358  0.007580  0.009109  1.000000   \n",
       "LEAVES REMAINING      -0.010609     0.000216 -0.007143 -0.006850 -0.007757   \n",
       "RATINGS               -0.038273     0.014781  0.039134  0.021702  0.023897   \n",
       "PAST EXP              -0.022794     0.457396  0.903659  0.854024  0.002491   \n",
       "Total_time_in_company -0.007756     0.346846  0.458761  0.434850  0.005337   \n",
       "\n",
       "                       LEAVES REMAINING   RATINGS  PAST EXP  \\\n",
       "SEX                           -0.010609 -0.038273 -0.022794   \n",
       "DESIGNATION                    0.000216  0.014781  0.457396   \n",
       "AGE                           -0.007143  0.039134  0.903659   \n",
       "SALARY                        -0.006850  0.021702  0.854024   \n",
       "UNIT                          -0.007757  0.023897  0.002491   \n",
       "LEAVES REMAINING               1.000000 -0.004352 -0.007832   \n",
       "RATINGS                       -0.004352  1.000000  0.042497   \n",
       "PAST EXP                      -0.007832  0.042497  1.000000   \n",
       "Total_time_in_company         -0.013198  0.016660  0.220933   \n",
       "\n",
       "                       Total_time_in_company  \n",
       "SEX                                -0.007756  \n",
       "DESIGNATION                         0.346846  \n",
       "AGE                                 0.458761  \n",
       "SALARY                              0.434850  \n",
       "UNIT                                0.005337  \n",
       "LEAVES REMAINING                   -0.013198  \n",
       "RATINGS                             0.016660  \n",
       "PAST EXP                            0.220933  \n",
       "Total_time_in_company               1.000000  "
      ]
     },
     "execution_count": 34,
     "metadata": {},
     "output_type": "execute_result"
    }
   ],
   "source": [
    "cor_matrix=df1.corr()\n",
    "cor_matrix"
   ]
  },
  {
   "cell_type": "code",
   "execution_count": 35,
   "id": "2e9072c9",
   "metadata": {},
   "outputs": [
    {
     "data": {
      "image/png": "[encoded data removed]",
      "text/plain": [
       "<Figure size 1000x800 with 2 Axes>"
      ]
     },
     "metadata": {},
     "output_type": "display_data"
    }
   ],
   "source": [
    "\n",
    "# Plotting the correlation matrix\n",
    "plt.figure(figsize=(10, 8))\n",
    "sns.heatmap(cor_matrix, annot=True, cmap='coolwarm', fmt=\".2f\", linewidths=.5)\n",
    "plt.title(\"Correlation Matrix\")\n",
    "plt.show()"
   ]
  },
  {
   "cell_type": "code",
   "execution_count": 36,
   "id": "4453c6cf",
   "metadata": {},
   "outputs": [],
   "source": [
    "\n",
    "#plt.figure(figsize=(15, 10))\n",
    "#sns.pairplot(df1)\n",
    "#plt.show()"
   ]
  },
  {
   "cell_type": "code",
   "execution_count": 37,
   "id": "5f312d90",
   "metadata": {},
   "outputs": [
    {
     "data": {
      "text/plain": [
       "Index(['SEX', 'DESIGNATION', 'AGE', 'SALARY', 'UNIT', 'LEAVES REMAINING',\n",
       "       'RATINGS', 'PAST EXP', 'Total_time_in_company'],\n",
       "      dtype='object')"
      ]
     },
     "execution_count": 37,
     "metadata": {},
     "output_type": "execute_result"
    }
   ],
   "source": [
    "df1.columns\n"
   ]
  },
  {
   "cell_type": "code",
   "execution_count": 38,
   "id": "3ae51ed1",
   "metadata": {},
   "outputs": [
    {
     "name": "stderr",
     "output_type": "stream",
     "text": [
      "C:\\Users\\PC\\AppData\\Local\\Programs\\Python\\Python310\\lib\\site-packages\\seaborn\\_oldcore.py:1498: FutureWarning: is_categorical_dtype is deprecated and will be removed in a future version. Use isinstance(dtype, CategoricalDtype) instead\n",
      "  if pd.api.types.is_categorical_dtype(vector):\n",
      "C:\\Users\\PC\\AppData\\Local\\Programs\\Python\\Python310\\lib\\site-packages\\seaborn\\_oldcore.py:1498: FutureWarning: is_categorical_dtype is deprecated and will be removed in a future version. Use isinstance(dtype, CategoricalDtype) instead\n",
      "  if pd.api.types.is_categorical_dtype(vector):\n",
      "C:\\Users\\PC\\AppData\\Local\\Programs\\Python\\Python310\\lib\\site-packages\\seaborn\\_oldcore.py:1498: FutureWarning: is_categorical_dtype is deprecated and will be removed in a future version. Use isinstance(dtype, CategoricalDtype) instead\n",
      "  if pd.api.types.is_categorical_dtype(vector):\n",
      "C:\\Users\\PC\\AppData\\Local\\Programs\\Python\\Python310\\lib\\site-packages\\seaborn\\_oldcore.py:1498: FutureWarning: is_categorical_dtype is deprecated and will be removed in a future version. Use isinstance(dtype, CategoricalDtype) instead\n",
      "  if pd.api.types.is_categorical_dtype(vector):\n"
     ]
    },
    {
     "data": {
      "image/png": "[encoded data removed]",
      "text/plain": [
       "<Figure size 1500x1000 with 1 Axes>"
      ]
     },
     "metadata": {},
     "output_type": "display_data"
    }
   ],
   "source": [
    "plt.figure(figsize=(15, 10))\n",
    "sns.barplot(data=df1,x='AGE',y='SALARY',hue='SEX')\n",
    "plt.show()\n"
   ]
  },
  {
   "cell_type": "markdown",
   "id": "4a9c3c5d",
   "metadata": {},
   "source": [
    "### observation\n",
    "1. Ratio of male and female is almost same but we can say females are more in little number."
   ]
  },
  {
   "cell_type": "code",
   "execution_count": 39,
   "id": "1d3bb4ea",
   "metadata": {},
   "outputs": [
    {
     "data": {
      "text/html": [
       "<div>\n",
       "<style scoped>\n",
       "    .dataframe tbody tr th:only-of-type {\n",
       "        vertical-align: middle;\n",
       "    }\n",
       "\n",
       "    .dataframe tbody tr th {\n",
       "        vertical-align: top;\n",
       "    }\n",
       "\n",
       "    .dataframe thead th {\n",
       "        text-align: right;\n",
       "    }\n",
       "</style>\n",
       "<table border=\"1\" class=\"dataframe\">\n",
       "  <thead>\n",
       "    <tr style=\"text-align: right;\">\n",
       "      <th></th>\n",
       "      <th>SEX</th>\n",
       "      <th>DESIGNATION</th>\n",
       "      <th>AGE</th>\n",
       "      <th>SALARY</th>\n",
       "      <th>UNIT</th>\n",
       "      <th>LEAVES REMAINING</th>\n",
       "      <th>RATINGS</th>\n",
       "      <th>PAST EXP</th>\n",
       "      <th>Total_time_in_company</th>\n",
       "    </tr>\n",
       "  </thead>\n",
       "  <tbody>\n",
       "    <tr>\n",
       "      <th>0</th>\n",
       "      <td>0</td>\n",
       "      <td>0</td>\n",
       "      <td>21.0</td>\n",
       "      <td>44570</td>\n",
       "      <td>1</td>\n",
       "      <td>6.0</td>\n",
       "      <td>2.0</td>\n",
       "      <td>0</td>\n",
       "      <td>19</td>\n",
       "    </tr>\n",
       "    <tr>\n",
       "      <th>2</th>\n",
       "      <td>0</td>\n",
       "      <td>0</td>\n",
       "      <td>21.0</td>\n",
       "      <td>40955</td>\n",
       "      <td>1</td>\n",
       "      <td>7.0</td>\n",
       "      <td>3.0</td>\n",
       "      <td>0</td>\n",
       "      <td>17</td>\n",
       "    </tr>\n",
       "    <tr>\n",
       "      <th>3</th>\n",
       "      <td>0</td>\n",
       "      <td>0</td>\n",
       "      <td>22.0</td>\n",
       "      <td>45550</td>\n",
       "      <td>3</td>\n",
       "      <td>8.0</td>\n",
       "      <td>3.0</td>\n",
       "      <td>0</td>\n",
       "      <td>33</td>\n",
       "    </tr>\n",
       "    <tr>\n",
       "      <th>6</th>\n",
       "      <td>1</td>\n",
       "      <td>0</td>\n",
       "      <td>22.0</td>\n",
       "      <td>40339</td>\n",
       "      <td>5</td>\n",
       "      <td>11.0</td>\n",
       "      <td>5.0</td>\n",
       "      <td>0</td>\n",
       "      <td>28</td>\n",
       "    </tr>\n",
       "    <tr>\n",
       "      <th>8</th>\n",
       "      <td>0</td>\n",
       "      <td>4</td>\n",
       "      <td>28.0</td>\n",
       "      <td>63478</td>\n",
       "      <td>4</td>\n",
       "      <td>10.0</td>\n",
       "      <td>3.0</td>\n",
       "      <td>1</td>\n",
       "      <td>18</td>\n",
       "    </tr>\n",
       "  </tbody>\n",
       "</table>\n",
       "</div>"
      ],
      "text/plain": [
       "   SEX  DESIGNATION   AGE  SALARY  UNIT  LEAVES REMAINING  RATINGS  PAST EXP  \\\n",
       "0    0            0  21.0   44570     1               6.0      2.0         0   \n",
       "2    0            0  21.0   40955     1               7.0      3.0         0   \n",
       "3    0            0  22.0   45550     3               8.0      3.0         0   \n",
       "6    1            0  22.0   40339     5              11.0      5.0         0   \n",
       "8    0            4  28.0   63478     4              10.0      3.0         1   \n",
       "\n",
       "   Total_time_in_company  \n",
       "0                     19  \n",
       "2                     17  \n",
       "3                     33  \n",
       "6                     28  \n",
       "8                     18  "
      ]
     },
     "execution_count": 39,
     "metadata": {},
     "output_type": "execute_result"
    }
   ],
   "source": [
    "df1.head()"
   ]
  },
  {
   "cell_type": "markdown",
   "id": "ac420a02",
   "metadata": {},
   "source": [
    "### split the data set for train and test"
   ]
  },
  {
   "cell_type": "code",
   "execution_count": 40,
   "id": "68abc5f0",
   "metadata": {},
   "outputs": [
    {
     "data": {
      "text/html": [
       "<div>\n",
       "<style scoped>\n",
       "    .dataframe tbody tr th:only-of-type {\n",
       "        vertical-align: middle;\n",
       "    }\n",
       "\n",
       "    .dataframe tbody tr th {\n",
       "        vertical-align: top;\n",
       "    }\n",
       "\n",
       "    .dataframe thead th {\n",
       "        text-align: right;\n",
       "    }\n",
       "</style>\n",
       "<table border=\"1\" class=\"dataframe\">\n",
       "  <thead>\n",
       "    <tr style=\"text-align: right;\">\n",
       "      <th></th>\n",
       "      <th>SEX</th>\n",
       "      <th>DESIGNATION</th>\n",
       "      <th>AGE</th>\n",
       "      <th>UNIT</th>\n",
       "      <th>LEAVES REMAINING</th>\n",
       "      <th>RATINGS</th>\n",
       "      <th>PAST EXP</th>\n",
       "      <th>Total_time_in_company</th>\n",
       "    </tr>\n",
       "  </thead>\n",
       "  <tbody>\n",
       "    <tr>\n",
       "      <th>0</th>\n",
       "      <td>0</td>\n",
       "      <td>0</td>\n",
       "      <td>21.0</td>\n",
       "      <td>1</td>\n",
       "      <td>6.0</td>\n",
       "      <td>2.0</td>\n",
       "      <td>0</td>\n",
       "      <td>19</td>\n",
       "    </tr>\n",
       "    <tr>\n",
       "      <th>2</th>\n",
       "      <td>0</td>\n",
       "      <td>0</td>\n",
       "      <td>21.0</td>\n",
       "      <td>1</td>\n",
       "      <td>7.0</td>\n",
       "      <td>3.0</td>\n",
       "      <td>0</td>\n",
       "      <td>17</td>\n",
       "    </tr>\n",
       "    <tr>\n",
       "      <th>3</th>\n",
       "      <td>0</td>\n",
       "      <td>0</td>\n",
       "      <td>22.0</td>\n",
       "      <td>3</td>\n",
       "      <td>8.0</td>\n",
       "      <td>3.0</td>\n",
       "      <td>0</td>\n",
       "      <td>33</td>\n",
       "    </tr>\n",
       "    <tr>\n",
       "      <th>6</th>\n",
       "      <td>1</td>\n",
       "      <td>0</td>\n",
       "      <td>22.0</td>\n",
       "      <td>5</td>\n",
       "      <td>11.0</td>\n",
       "      <td>5.0</td>\n",
       "      <td>0</td>\n",
       "      <td>28</td>\n",
       "    </tr>\n",
       "    <tr>\n",
       "      <th>8</th>\n",
       "      <td>0</td>\n",
       "      <td>4</td>\n",
       "      <td>28.0</td>\n",
       "      <td>4</td>\n",
       "      <td>10.0</td>\n",
       "      <td>3.0</td>\n",
       "      <td>1</td>\n",
       "      <td>18</td>\n",
       "    </tr>\n",
       "    <tr>\n",
       "      <th>...</th>\n",
       "      <td>...</td>\n",
       "      <td>...</td>\n",
       "      <td>...</td>\n",
       "      <td>...</td>\n",
       "      <td>...</td>\n",
       "      <td>...</td>\n",
       "      <td>...</td>\n",
       "      <td>...</td>\n",
       "    </tr>\n",
       "    <tr>\n",
       "      <th>2634</th>\n",
       "      <td>0</td>\n",
       "      <td>5</td>\n",
       "      <td>36.0</td>\n",
       "      <td>6</td>\n",
       "      <td>15.0</td>\n",
       "      <td>5.0</td>\n",
       "      <td>10</td>\n",
       "      <td>55</td>\n",
       "    </tr>\n",
       "    <tr>\n",
       "      <th>2635</th>\n",
       "      <td>0</td>\n",
       "      <td>0</td>\n",
       "      <td>23.0</td>\n",
       "      <td>3</td>\n",
       "      <td>13.0</td>\n",
       "      <td>2.0</td>\n",
       "      <td>0</td>\n",
       "      <td>24</td>\n",
       "    </tr>\n",
       "    <tr>\n",
       "      <th>2636</th>\n",
       "      <td>0</td>\n",
       "      <td>0</td>\n",
       "      <td>21.0</td>\n",
       "      <td>2</td>\n",
       "      <td>1.0</td>\n",
       "      <td>5.0</td>\n",
       "      <td>0</td>\n",
       "      <td>23</td>\n",
       "    </tr>\n",
       "    <tr>\n",
       "      <th>2637</th>\n",
       "      <td>0</td>\n",
       "      <td>0</td>\n",
       "      <td>24.0</td>\n",
       "      <td>2</td>\n",
       "      <td>7.0</td>\n",
       "      <td>3.0</td>\n",
       "      <td>1</td>\n",
       "      <td>22</td>\n",
       "    </tr>\n",
       "    <tr>\n",
       "      <th>2638</th>\n",
       "      <td>1</td>\n",
       "      <td>0</td>\n",
       "      <td>24.0</td>\n",
       "      <td>5</td>\n",
       "      <td>13.0</td>\n",
       "      <td>2.0</td>\n",
       "      <td>2</td>\n",
       "      <td>15</td>\n",
       "    </tr>\n",
       "  </tbody>\n",
       "</table>\n",
       "<p>2631 rows × 8 columns</p>\n",
       "</div>"
      ],
      "text/plain": [
       "      SEX  DESIGNATION   AGE  UNIT  LEAVES REMAINING  RATINGS  PAST EXP  \\\n",
       "0       0            0  21.0     1               6.0      2.0         0   \n",
       "2       0            0  21.0     1               7.0      3.0         0   \n",
       "3       0            0  22.0     3               8.0      3.0         0   \n",
       "6       1            0  22.0     5              11.0      5.0         0   \n",
       "8       0            4  28.0     4              10.0      3.0         1   \n",
       "...   ...          ...   ...   ...               ...      ...       ...   \n",
       "2634    0            5  36.0     6              15.0      5.0        10   \n",
       "2635    0            0  23.0     3              13.0      2.0         0   \n",
       "2636    0            0  21.0     2               1.0      5.0         0   \n",
       "2637    0            0  24.0     2               7.0      3.0         1   \n",
       "2638    1            0  24.0     5              13.0      2.0         2   \n",
       "\n",
       "      Total_time_in_company  \n",
       "0                        19  \n",
       "2                        17  \n",
       "3                        33  \n",
       "6                        28  \n",
       "8                        18  \n",
       "...                     ...  \n",
       "2634                     55  \n",
       "2635                     24  \n",
       "2636                     23  \n",
       "2637                     22  \n",
       "2638                     15  \n",
       "\n",
       "[2631 rows x 8 columns]"
      ]
     },
     "execution_count": 40,
     "metadata": {},
     "output_type": "execute_result"
    }
   ],
   "source": [
    "x=df1.drop('SALARY',axis=1)\n",
    "x"
   ]
  },
  {
   "cell_type": "code",
   "execution_count": 41,
   "id": "4bd3c84d",
   "metadata": {},
   "outputs": [
    {
     "data": {
      "text/plain": [
       "0        44570\n",
       "2        40955\n",
       "3        45550\n",
       "6        40339\n",
       "8        63478\n",
       "         ...  \n",
       "2634    185977\n",
       "2635     45758\n",
       "2636     47315\n",
       "2637     45172\n",
       "2638     49176\n",
       "Name: SALARY, Length: 2631, dtype: int64"
      ]
     },
     "execution_count": 41,
     "metadata": {},
     "output_type": "execute_result"
    }
   ],
   "source": [
    "y=df1['SALARY']\n",
    "y"
   ]
  },
  {
   "cell_type": "code",
   "execution_count": 42,
   "id": "9f1c339b",
   "metadata": {},
   "outputs": [
    {
     "name": "stdout",
     "output_type": "stream",
     "text": [
      "(2631, 8)\n"
     ]
    }
   ],
   "source": [
    "print(x.shape)"
   ]
  },
  {
   "cell_type": "code",
   "execution_count": 43,
   "id": "aaf0eef0",
   "metadata": {},
   "outputs": [
    {
     "name": "stdout",
     "output_type": "stream",
     "text": [
      "(2631,)\n"
     ]
    }
   ],
   "source": [
    "print(y.shape)"
   ]
  },
  {
   "cell_type": "code",
   "execution_count": 44,
   "id": "0d081e95",
   "metadata": {},
   "outputs": [],
   "source": [
    "from sklearn.model_selection import train_test_split, GridSearchCV, RandomizedSearchCV\n",
    "X_train, X_test, y_train, y_test = train_test_split(x, y, test_size = 0.25, random_state = 0)"
   ]
  },
  {
   "cell_type": "code",
   "execution_count": 45,
   "id": "7bfb9244",
   "metadata": {},
   "outputs": [
    {
     "name": "stdout",
     "output_type": "stream",
     "text": [
      "(1973, 8)\n",
      "(658, 8)\n",
      "(1973,)\n",
      "(658,)\n"
     ]
    }
   ],
   "source": [
    "print(X_train.shape)\n",
    "print(X_test.shape)\n",
    "print(y_train.shape)\n",
    "print(y_test.shape)"
   ]
  },
  {
   "cell_type": "markdown",
   "id": "f7d9fa54",
   "metadata": {},
   "source": [
    "### feature scaling"
   ]
  },
  {
   "cell_type": "code",
   "execution_count": 46,
   "id": "893dd491",
   "metadata": {},
   "outputs": [],
   "source": [
    "from sklearn.preprocessing import StandardScaler\n",
    "sc=StandardScaler()\n",
    "X_train=sc.fit_transform(X_train)\n",
    "X_test=sc.transform(X_test)\n"
   ]
  },
  {
   "cell_type": "markdown",
   "id": "40b14c52",
   "metadata": {},
   "source": [
    "# Models\n",
    "## linear regression"
   ]
  },
  {
   "cell_type": "code",
   "execution_count": 47,
   "id": "04bc5326",
   "metadata": {},
   "outputs": [
    {
     "data": {
      "text/html": [
       "<style>#sk-container-id-1 {color: black;}#sk-container-id-1 pre{padding: 0;}#sk-container-id-1 div.sk-toggleable {background-color: white;}#sk-container-id-1 label.sk-toggleable__label {cursor: pointer;display: block;width: 100%;margin-bottom: 0;padding: 0.3em;box-sizing: border-box;text-align: center;}#sk-container-id-1 label.sk-toggleable__label-arrow:before {content: \"▸\";float: left;margin-right: 0.25em;color: #696969;}#sk-container-id-1 label.sk-toggleable__label-arrow:hover:before {color: black;}#sk-container-id-1 div.sk-estimator:hover label.sk-toggleable__label-arrow:before {color: black;}#sk-container-id-1 div.sk-toggleable__content {max-height: 0;max-width: 0;overflow: hidden;text-align: left;background-color: #f0f8ff;}#sk-container-id-1 div.sk-toggleable__content pre {margin: 0.2em;color: black;border-radius: 0.25em;background-color: #f0f8ff;}#sk-container-id-1 input.sk-toggleable__control:checked~div.sk-toggleable__content {max-height: 200px;max-width: 100%;overflow: auto;}#sk-container-id-1 input.sk-toggleable__control:checked~label.sk-toggleable__label-arrow:before {content: \"▾\";}#sk-container-id-1 div.sk-estimator input.sk-toggleable__control:checked~label.sk-toggleable__label {background-color: #d4ebff;}#sk-container-id-1 div.sk-label input.sk-toggleable__control:checked~label.sk-toggleable__label {background-color: #d4ebff;}#sk-container-id-1 input.sk-hidden--visually {border: 0;clip: rect(1px 1px 1px 1px);clip: rect(1px, 1px, 1px, 1px);height: 1px;margin: -1px;overflow: hidden;padding: 0;position: absolute;width: 1px;}#sk-container-id-1 div.sk-estimator {font-family: monospace;background-color: #f0f8ff;border: 1px dotted black;border-radius: 0.25em;box-sizing: border-box;margin-bottom: 0.5em;}#sk-container-id-1 div.sk-estimator:hover {background-color: #d4ebff;}#sk-container-id-1 div.sk-parallel-item::after {content: \"\";width: 100%;border-bottom: 1px solid gray;flex-grow: 1;}#sk-container-id-1 div.sk-label:hover label.sk-toggleable__label {background-color: #d4ebff;}#sk-container-id-1 div.sk-serial::before {content: \"\";position: absolute;border-left: 1px solid gray;box-sizing: border-box;top: 0;bottom: 0;left: 50%;z-index: 0;}#sk-container-id-1 div.sk-serial {display: flex;flex-direction: column;align-items: center;background-color: white;padding-right: 0.2em;padding-left: 0.2em;position: relative;}#sk-container-id-1 div.sk-item {position: relative;z-index: 1;}#sk-container-id-1 div.sk-parallel {display: flex;align-items: stretch;justify-content: center;background-color: white;position: relative;}#sk-container-id-1 div.sk-item::before, #sk-container-id-1 div.sk-parallel-item::before {content: \"\";position: absolute;border-left: 1px solid gray;box-sizing: border-box;top: 0;bottom: 0;left: 50%;z-index: -1;}#sk-container-id-1 div.sk-parallel-item {display: flex;flex-direction: column;z-index: 1;position: relative;background-color: white;}#sk-container-id-1 div.sk-parallel-item:first-child::after {align-self: flex-end;width: 50%;}#sk-container-id-1 div.sk-parallel-item:last-child::after {align-self: flex-start;width: 50%;}#sk-container-id-1 div.sk-parallel-item:only-child::after {width: 0;}#sk-container-id-1 div.sk-dashed-wrapped {border: 1px dashed gray;margin: 0 0.4em 0.5em 0.4em;box-sizing: border-box;padding-bottom: 0.4em;background-color: white;}#sk-container-id-1 div.sk-label label {font-family: monospace;font-weight: bold;display: inline-block;line-height: 1.2em;}#sk-container-id-1 div.sk-label-container {text-align: center;}#sk-container-id-1 div.sk-container {/* jupyter's `normalize.less` sets `[hidden] { display: none; }` but bootstrap.min.css set `[hidden] { display: none !important; }` so we also need the `!important` here to be able to override the default hidden behavior on the sphinx rendered scikit-learn.org. See: https://github.com/scikit-learn/scikit-learn/issues/21755 */display: inline-block !important;position: relative;}#sk-container-id-1 div.sk-text-repr-fallback {display: none;}</style><div id=\"sk-container-id-1\" class=\"sk-top-container\"><div class=\"sk-text-repr-fallback\"><pre>LinearRegression()</pre><b>In a Jupyter environment, please rerun this cell to show the HTML representation or trust the notebook. <br />On GitHub, the HTML representation is unable to render, please try loading this page with nbviewer.org.</b></div><div class=\"sk-container\" hidden><div class=\"sk-item\"><div class=\"sk-estimator sk-toggleable\"><input class=\"sk-toggleable__control sk-hidden--visually\" id=\"sk-estimator-id-1\" type=\"checkbox\" checked><label for=\"sk-estimator-id-1\" class=\"sk-toggleable__label sk-toggleable__label-arrow\">LinearRegression</label><div class=\"sk-toggleable__content\"><pre>LinearRegression()</pre></div></div></div></div></div>"
      ],
      "text/plain": [
       "LinearRegression()"
      ]
     },
     "execution_count": 47,
     "metadata": {},
     "output_type": "execute_result"
    }
   ],
   "source": [
    "from sklearn.linear_model import LinearRegression\n",
    "lm = LinearRegression()\n",
    "lm.fit(X_train,y_train)"
   ]
  },
  {
   "cell_type": "code",
   "execution_count": 48,
   "id": "cc3117e8",
   "metadata": {},
   "outputs": [],
   "source": [
    "y_pred= lm.predict(X_test)\n"
   ]
  },
  {
   "cell_type": "code",
   "execution_count": 49,
   "id": "83ab034a",
   "metadata": {},
   "outputs": [],
   "source": [
    "from sklearn.metrics import mean_absolute_error,mean_squared_error,r2_score\n"
   ]
  },
  {
   "cell_type": "code",
   "execution_count": 50,
   "id": "4a4c45c5",
   "metadata": {},
   "outputs": [
    {
     "data": {
      "text/plain": [
       "0.8274364988608469"
      ]
     },
     "execution_count": 50,
     "metadata": {},
     "output_type": "execute_result"
    }
   ],
   "source": [
    "acc_score=r2_score(y_test,y_pred)\n",
    "acc_score"
   ]
  },
  {
   "cell_type": "markdown",
   "id": "f558c7eb",
   "metadata": {},
   "source": [
    "### decion tree regression\n"
   ]
  },
  {
   "cell_type": "code",
   "execution_count": 51,
   "id": "9da28531",
   "metadata": {},
   "outputs": [],
   "source": [
    "from sklearn.tree import DecisionTreeRegressor\n",
    "dt=DecisionTreeRegressor()\n"
   ]
  },
  {
   "cell_type": "code",
   "execution_count": 52,
   "id": "5c7e8b7f",
   "metadata": {},
   "outputs": [],
   "source": [
    "parameter={'max_depth':[None,1,2,3,4,5,6,7,8,9,12,13,14,15,16],'min_samples_split': [2 ,5,4,6,8,9,3, 10]}"
   ]
  },
  {
   "cell_type": "code",
   "execution_count": 53,
   "id": "2a39d6ec",
   "metadata": {},
   "outputs": [
    {
     "data": {
      "text/html": [
       "<style>#sk-container-id-2 {color: black;}#sk-container-id-2 pre{padding: 0;}#sk-container-id-2 div.sk-toggleable {background-color: white;}#sk-container-id-2 label.sk-toggleable__label {cursor: pointer;display: block;width: 100%;margin-bottom: 0;padding: 0.3em;box-sizing: border-box;text-align: center;}#sk-container-id-2 label.sk-toggleable__label-arrow:before {content: \"▸\";float: left;margin-right: 0.25em;color: #696969;}#sk-container-id-2 label.sk-toggleable__label-arrow:hover:before {color: black;}#sk-container-id-2 div.sk-estimator:hover label.sk-toggleable__label-arrow:before {color: black;}#sk-container-id-2 div.sk-toggleable__content {max-height: 0;max-width: 0;overflow: hidden;text-align: left;background-color: #f0f8ff;}#sk-container-id-2 div.sk-toggleable__content pre {margin: 0.2em;color: black;border-radius: 0.25em;background-color: #f0f8ff;}#sk-container-id-2 input.sk-toggleable__control:checked~div.sk-toggleable__content {max-height: 200px;max-width: 100%;overflow: auto;}#sk-container-id-2 input.sk-toggleable__control:checked~label.sk-toggleable__label-arrow:before {content: \"▾\";}#sk-container-id-2 div.sk-estimator input.sk-toggleable__control:checked~label.sk-toggleable__label {background-color: #d4ebff;}#sk-container-id-2 div.sk-label input.sk-toggleable__control:checked~label.sk-toggleable__label {background-color: #d4ebff;}#sk-container-id-2 input.sk-hidden--visually {border: 0;clip: rect(1px 1px 1px 1px);clip: rect(1px, 1px, 1px, 1px);height: 1px;margin: -1px;overflow: hidden;padding: 0;position: absolute;width: 1px;}#sk-container-id-2 div.sk-estimator {font-family: monospace;background-color: #f0f8ff;border: 1px dotted black;border-radius: 0.25em;box-sizing: border-box;margin-bottom: 0.5em;}#sk-container-id-2 div.sk-estimator:hover {background-color: #d4ebff;}#sk-container-id-2 div.sk-parallel-item::after {content: \"\";width: 100%;border-bottom: 1px solid gray;flex-grow: 1;}#sk-container-id-2 div.sk-label:hover label.sk-toggleable__label {background-color: #d4ebff;}#sk-container-id-2 div.sk-serial::before {content: \"\";position: absolute;border-left: 1px solid gray;box-sizing: border-box;top: 0;bottom: 0;left: 50%;z-index: 0;}#sk-container-id-2 div.sk-serial {display: flex;flex-direction: column;align-items: center;background-color: white;padding-right: 0.2em;padding-left: 0.2em;position: relative;}#sk-container-id-2 div.sk-item {position: relative;z-index: 1;}#sk-container-id-2 div.sk-parallel {display: flex;align-items: stretch;justify-content: center;background-color: white;position: relative;}#sk-container-id-2 div.sk-item::before, #sk-container-id-2 div.sk-parallel-item::before {content: \"\";position: absolute;border-left: 1px solid gray;box-sizing: border-box;top: 0;bottom: 0;left: 50%;z-index: -1;}#sk-container-id-2 div.sk-parallel-item {display: flex;flex-direction: column;z-index: 1;position: relative;background-color: white;}#sk-container-id-2 div.sk-parallel-item:first-child::after {align-self: flex-end;width: 50%;}#sk-container-id-2 div.sk-parallel-item:last-child::after {align-self: flex-start;width: 50%;}#sk-container-id-2 div.sk-parallel-item:only-child::after {width: 0;}#sk-container-id-2 div.sk-dashed-wrapped {border: 1px dashed gray;margin: 0 0.4em 0.5em 0.4em;box-sizing: border-box;padding-bottom: 0.4em;background-color: white;}#sk-container-id-2 div.sk-label label {font-family: monospace;font-weight: bold;display: inline-block;line-height: 1.2em;}#sk-container-id-2 div.sk-label-container {text-align: center;}#sk-container-id-2 div.sk-container {/* jupyter's `normalize.less` sets `[hidden] { display: none; }` but bootstrap.min.css set `[hidden] { display: none !important; }` so we also need the `!important` here to be able to override the default hidden behavior on the sphinx rendered scikit-learn.org. See: https://github.com/scikit-learn/scikit-learn/issues/21755 */display: inline-block !important;position: relative;}#sk-container-id-2 div.sk-text-repr-fallback {display: none;}</style><div id=\"sk-container-id-2\" class=\"sk-top-container\"><div class=\"sk-text-repr-fallback\"><pre>GridSearchCV(cv=5, estimator=DecisionTreeRegressor(),\n",
       "             param_grid={&#x27;max_depth&#x27;: [None, 1, 2, 3, 4, 5, 6, 7, 8, 9, 12, 13,\n",
       "                                       14, 15, 16],\n",
       "                         &#x27;min_samples_split&#x27;: [2, 5, 4, 6, 8, 9, 3, 10]},\n",
       "             scoring=&#x27;neg_mean_squared_error&#x27;)</pre><b>In a Jupyter environment, please rerun this cell to show the HTML representation or trust the notebook. <br />On GitHub, the HTML representation is unable to render, please try loading this page with nbviewer.org.</b></div><div class=\"sk-container\" hidden><div class=\"sk-item sk-dashed-wrapped\"><div class=\"sk-label-container\"><div class=\"sk-label sk-toggleable\"><input class=\"sk-toggleable__control sk-hidden--visually\" id=\"sk-estimator-id-2\" type=\"checkbox\" ><label for=\"sk-estimator-id-2\" class=\"sk-toggleable__label sk-toggleable__label-arrow\">GridSearchCV</label><div class=\"sk-toggleable__content\"><pre>GridSearchCV(cv=5, estimator=DecisionTreeRegressor(),\n",
       "             param_grid={&#x27;max_depth&#x27;: [None, 1, 2, 3, 4, 5, 6, 7, 8, 9, 12, 13,\n",
       "                                       14, 15, 16],\n",
       "                         &#x27;min_samples_split&#x27;: [2, 5, 4, 6, 8, 9, 3, 10]},\n",
       "             scoring=&#x27;neg_mean_squared_error&#x27;)</pre></div></div></div><div class=\"sk-parallel\"><div class=\"sk-parallel-item\"><div class=\"sk-item\"><div class=\"sk-label-container\"><div class=\"sk-label sk-toggleable\"><input class=\"sk-toggleable__control sk-hidden--visually\" id=\"sk-estimator-id-3\" type=\"checkbox\" ><label for=\"sk-estimator-id-3\" class=\"sk-toggleable__label sk-toggleable__label-arrow\">estimator: DecisionTreeRegressor</label><div class=\"sk-toggleable__content\"><pre>DecisionTreeRegressor()</pre></div></div></div><div class=\"sk-serial\"><div class=\"sk-item\"><div class=\"sk-estimator sk-toggleable\"><input class=\"sk-toggleable__control sk-hidden--visually\" id=\"sk-estimator-id-4\" type=\"checkbox\" ><label for=\"sk-estimator-id-4\" class=\"sk-toggleable__label sk-toggleable__label-arrow\">DecisionTreeRegressor</label><div class=\"sk-toggleable__content\"><pre>DecisionTreeRegressor()</pre></div></div></div></div></div></div></div></div></div></div>"
      ],
      "text/plain": [
       "GridSearchCV(cv=5, estimator=DecisionTreeRegressor(),\n",
       "             param_grid={'max_depth': [None, 1, 2, 3, 4, 5, 6, 7, 8, 9, 12, 13,\n",
       "                                       14, 15, 16],\n",
       "                         'min_samples_split': [2, 5, 4, 6, 8, 9, 3, 10]},\n",
       "             scoring='neg_mean_squared_error')"
      ]
     },
     "execution_count": 53,
     "metadata": {},
     "output_type": "execute_result"
    }
   ],
   "source": [
    "g_search = GridSearchCV(estimator=dt, param_grid=parameter, cv=5, scoring='neg_mean_squared_error')\n",
    "g_search.fit(X_train, y_train)"
   ]
  },
  {
   "cell_type": "code",
   "execution_count": 54,
   "id": "be275455",
   "metadata": {},
   "outputs": [],
   "source": [
    "# Get the best hyperparameters\n",
    "best_params = g_search.best_params_\n",
    "best_max_depth = best_params['max_depth']\n",
    "best_min_samples_split = best_params['min_samples_split']"
   ]
  },
  {
   "cell_type": "code",
   "execution_count": 55,
   "id": "52df4276",
   "metadata": {},
   "outputs": [
    {
     "name": "stdout",
     "output_type": "stream",
     "text": [
      "5\n"
     ]
    }
   ],
   "source": [
    "print(best_max_depth)"
   ]
  },
  {
   "cell_type": "code",
   "execution_count": 56,
   "id": "ae4a588e",
   "metadata": {},
   "outputs": [
    {
     "name": "stdout",
     "output_type": "stream",
     "text": [
      "6\n"
     ]
    }
   ],
   "source": [
    "print(best_min_samples_split)"
   ]
  },
  {
   "cell_type": "code",
   "execution_count": 57,
   "id": "465a891a",
   "metadata": {},
   "outputs": [
    {
     "data": {
      "text/html": [
       "<style>#sk-container-id-3 {color: black;}#sk-container-id-3 pre{padding: 0;}#sk-container-id-3 div.sk-toggleable {background-color: white;}#sk-container-id-3 label.sk-toggleable__label {cursor: pointer;display: block;width: 100%;margin-bottom: 0;padding: 0.3em;box-sizing: border-box;text-align: center;}#sk-container-id-3 label.sk-toggleable__label-arrow:before {content: \"▸\";float: left;margin-right: 0.25em;color: #696969;}#sk-container-id-3 label.sk-toggleable__label-arrow:hover:before {color: black;}#sk-container-id-3 div.sk-estimator:hover label.sk-toggleable__label-arrow:before {color: black;}#sk-container-id-3 div.sk-toggleable__content {max-height: 0;max-width: 0;overflow: hidden;text-align: left;background-color: #f0f8ff;}#sk-container-id-3 div.sk-toggleable__content pre {margin: 0.2em;color: black;border-radius: 0.25em;background-color: #f0f8ff;}#sk-container-id-3 input.sk-toggleable__control:checked~div.sk-toggleable__content {max-height: 200px;max-width: 100%;overflow: auto;}#sk-container-id-3 input.sk-toggleable__control:checked~label.sk-toggleable__label-arrow:before {content: \"▾\";}#sk-container-id-3 div.sk-estimator input.sk-toggleable__control:checked~label.sk-toggleable__label {background-color: #d4ebff;}#sk-container-id-3 div.sk-label input.sk-toggleable__control:checked~label.sk-toggleable__label {background-color: #d4ebff;}#sk-container-id-3 input.sk-hidden--visually {border: 0;clip: rect(1px 1px 1px 1px);clip: rect(1px, 1px, 1px, 1px);height: 1px;margin: -1px;overflow: hidden;padding: 0;position: absolute;width: 1px;}#sk-container-id-3 div.sk-estimator {font-family: monospace;background-color: #f0f8ff;border: 1px dotted black;border-radius: 0.25em;box-sizing: border-box;margin-bottom: 0.5em;}#sk-container-id-3 div.sk-estimator:hover {background-color: #d4ebff;}#sk-container-id-3 div.sk-parallel-item::after {content: \"\";width: 100%;border-bottom: 1px solid gray;flex-grow: 1;}#sk-container-id-3 div.sk-label:hover label.sk-toggleable__label {background-color: #d4ebff;}#sk-container-id-3 div.sk-serial::before {content: \"\";position: absolute;border-left: 1px solid gray;box-sizing: border-box;top: 0;bottom: 0;left: 50%;z-index: 0;}#sk-container-id-3 div.sk-serial {display: flex;flex-direction: column;align-items: center;background-color: white;padding-right: 0.2em;padding-left: 0.2em;position: relative;}#sk-container-id-3 div.sk-item {position: relative;z-index: 1;}#sk-container-id-3 div.sk-parallel {display: flex;align-items: stretch;justify-content: center;background-color: white;position: relative;}#sk-container-id-3 div.sk-item::before, #sk-container-id-3 div.sk-parallel-item::before {content: \"\";position: absolute;border-left: 1px solid gray;box-sizing: border-box;top: 0;bottom: 0;left: 50%;z-index: -1;}#sk-container-id-3 div.sk-parallel-item {display: flex;flex-direction: column;z-index: 1;position: relative;background-color: white;}#sk-container-id-3 div.sk-parallel-item:first-child::after {align-self: flex-end;width: 50%;}#sk-container-id-3 div.sk-parallel-item:last-child::after {align-self: flex-start;width: 50%;}#sk-container-id-3 div.sk-parallel-item:only-child::after {width: 0;}#sk-container-id-3 div.sk-dashed-wrapped {border: 1px dashed gray;margin: 0 0.4em 0.5em 0.4em;box-sizing: border-box;padding-bottom: 0.4em;background-color: white;}#sk-container-id-3 div.sk-label label {font-family: monospace;font-weight: bold;display: inline-block;line-height: 1.2em;}#sk-container-id-3 div.sk-label-container {text-align: center;}#sk-container-id-3 div.sk-container {/* jupyter's `normalize.less` sets `[hidden] { display: none; }` but bootstrap.min.css set `[hidden] { display: none !important; }` so we also need the `!important` here to be able to override the default hidden behavior on the sphinx rendered scikit-learn.org. See: https://github.com/scikit-learn/scikit-learn/issues/21755 */display: inline-block !important;position: relative;}#sk-container-id-3 div.sk-text-repr-fallback {display: none;}</style><div id=\"sk-container-id-3\" class=\"sk-top-container\"><div class=\"sk-text-repr-fallback\"><pre>DecisionTreeRegressor(max_depth=5, min_samples_split=6)</pre><b>In a Jupyter environment, please rerun this cell to show the HTML representation or trust the notebook. <br />On GitHub, the HTML representation is unable to render, please try loading this page with nbviewer.org.</b></div><div class=\"sk-container\" hidden><div class=\"sk-item\"><div class=\"sk-estimator sk-toggleable\"><input class=\"sk-toggleable__control sk-hidden--visually\" id=\"sk-estimator-id-5\" type=\"checkbox\" checked><label for=\"sk-estimator-id-5\" class=\"sk-toggleable__label sk-toggleable__label-arrow\">DecisionTreeRegressor</label><div class=\"sk-toggleable__content\"><pre>DecisionTreeRegressor(max_depth=5, min_samples_split=6)</pre></div></div></div></div></div>"
      ],
      "text/plain": [
       "DecisionTreeRegressor(max_depth=5, min_samples_split=6)"
      ]
     },
     "execution_count": 57,
     "metadata": {},
     "output_type": "execute_result"
    }
   ],
   "source": [
    "\n",
    "best_model = DecisionTreeRegressor(max_depth=best_max_depth, min_samples_split=best_min_samples_split)\n",
    "best_model.fit(X_train, y_train)"
   ]
  },
  {
   "cell_type": "code",
   "execution_count": 58,
   "id": "067069a1",
   "metadata": {},
   "outputs": [],
   "source": [
    "# predict thr result\n",
    "y_pred1= best_model.predict(X_test)"
   ]
  },
  {
   "cell_type": "code",
   "execution_count": 59,
   "id": "719a5118",
   "metadata": {},
   "outputs": [
    {
     "data": {
      "text/plain": [
       "0.9550791435354229"
      ]
     },
     "execution_count": 59,
     "metadata": {},
     "output_type": "execute_result"
    }
   ],
   "source": [
    "acc_score1=r2_score(y_test,y_pred1)\n",
    "acc_score1"
   ]
  },
  {
   "cell_type": "code",
   "execution_count": 60,
   "id": "8a044aa0",
   "metadata": {},
   "outputs": [
    {
     "data": {
      "text/plain": [
       "55253203.88471053"
      ]
     },
     "execution_count": 60,
     "metadata": {},
     "output_type": "execute_result"
    }
   ],
   "source": [
    "mse=mean_squared_error(y_test,y_pred1)\n",
    "mse"
   ]
  },
  {
   "cell_type": "markdown",
   "id": "fc1bce91",
   "metadata": {},
   "source": [
    "### random forest"
   ]
  },
  {
   "cell_type": "code",
   "execution_count": 61,
   "id": "5174abac",
   "metadata": {},
   "outputs": [],
   "source": [
    "from sklearn.ensemble import RandomForestRegressor\n",
    "rf = RandomForestRegressor()\n"
   ]
  },
  {
   "cell_type": "code",
   "execution_count": 62,
   "id": "8c6e4c83",
   "metadata": {},
   "outputs": [],
   "source": [
    "paramter={\n",
    "         'criterion':['squared_error','absolute_error'],\n",
    "         'max_depth':[2,3,4,6,8,10,20,12,16,18],\n",
    "         'min_samples_split':[3,2,5,7,8,9,10,13,12]\n",
    "}"
   ]
  },
  {
   "cell_type": "code",
   "execution_count": 63,
   "id": "5077f059",
   "metadata": {},
   "outputs": [
    {
     "data": {
      "text/html": [
       "<style>#sk-container-id-4 {color: black;}#sk-container-id-4 pre{padding: 0;}#sk-container-id-4 div.sk-toggleable {background-color: white;}#sk-container-id-4 label.sk-toggleable__label {cursor: pointer;display: block;width: 100%;margin-bottom: 0;padding: 0.3em;box-sizing: border-box;text-align: center;}#sk-container-id-4 label.sk-toggleable__label-arrow:before {content: \"▸\";float: left;margin-right: 0.25em;color: #696969;}#sk-container-id-4 label.sk-toggleable__label-arrow:hover:before {color: black;}#sk-container-id-4 div.sk-estimator:hover label.sk-toggleable__label-arrow:before {color: black;}#sk-container-id-4 div.sk-toggleable__content {max-height: 0;max-width: 0;overflow: hidden;text-align: left;background-color: #f0f8ff;}#sk-container-id-4 div.sk-toggleable__content pre {margin: 0.2em;color: black;border-radius: 0.25em;background-color: #f0f8ff;}#sk-container-id-4 input.sk-toggleable__control:checked~div.sk-toggleable__content {max-height: 200px;max-width: 100%;overflow: auto;}#sk-container-id-4 input.sk-toggleable__control:checked~label.sk-toggleable__label-arrow:before {content: \"▾\";}#sk-container-id-4 div.sk-estimator input.sk-toggleable__control:checked~label.sk-toggleable__label {background-color: #d4ebff;}#sk-container-id-4 div.sk-label input.sk-toggleable__control:checked~label.sk-toggleable__label {background-color: #d4ebff;}#sk-container-id-4 input.sk-hidden--visually {border: 0;clip: rect(1px 1px 1px 1px);clip: rect(1px, 1px, 1px, 1px);height: 1px;margin: -1px;overflow: hidden;padding: 0;position: absolute;width: 1px;}#sk-container-id-4 div.sk-estimator {font-family: monospace;background-color: #f0f8ff;border: 1px dotted black;border-radius: 0.25em;box-sizing: border-box;margin-bottom: 0.5em;}#sk-container-id-4 div.sk-estimator:hover {background-color: #d4ebff;}#sk-container-id-4 div.sk-parallel-item::after {content: \"\";width: 100%;border-bottom: 1px solid gray;flex-grow: 1;}#sk-container-id-4 div.sk-label:hover label.sk-toggleable__label {background-color: #d4ebff;}#sk-container-id-4 div.sk-serial::before {content: \"\";position: absolute;border-left: 1px solid gray;box-sizing: border-box;top: 0;bottom: 0;left: 50%;z-index: 0;}#sk-container-id-4 div.sk-serial {display: flex;flex-direction: column;align-items: center;background-color: white;padding-right: 0.2em;padding-left: 0.2em;position: relative;}#sk-container-id-4 div.sk-item {position: relative;z-index: 1;}#sk-container-id-4 div.sk-parallel {display: flex;align-items: stretch;justify-content: center;background-color: white;position: relative;}#sk-container-id-4 div.sk-item::before, #sk-container-id-4 div.sk-parallel-item::before {content: \"\";position: absolute;border-left: 1px solid gray;box-sizing: border-box;top: 0;bottom: 0;left: 50%;z-index: -1;}#sk-container-id-4 div.sk-parallel-item {display: flex;flex-direction: column;z-index: 1;position: relative;background-color: white;}#sk-container-id-4 div.sk-parallel-item:first-child::after {align-self: flex-end;width: 50%;}#sk-container-id-4 div.sk-parallel-item:last-child::after {align-self: flex-start;width: 50%;}#sk-container-id-4 div.sk-parallel-item:only-child::after {width: 0;}#sk-container-id-4 div.sk-dashed-wrapped {border: 1px dashed gray;margin: 0 0.4em 0.5em 0.4em;box-sizing: border-box;padding-bottom: 0.4em;background-color: white;}#sk-container-id-4 div.sk-label label {font-family: monospace;font-weight: bold;display: inline-block;line-height: 1.2em;}#sk-container-id-4 div.sk-label-container {text-align: center;}#sk-container-id-4 div.sk-container {/* jupyter's `normalize.less` sets `[hidden] { display: none; }` but bootstrap.min.css set `[hidden] { display: none !important; }` so we also need the `!important` here to be able to override the default hidden behavior on the sphinx rendered scikit-learn.org. See: https://github.com/scikit-learn/scikit-learn/issues/21755 */display: inline-block !important;position: relative;}#sk-container-id-4 div.sk-text-repr-fallback {display: none;}</style><div id=\"sk-container-id-4\" class=\"sk-top-container\"><div class=\"sk-text-repr-fallback\"><pre>RandomizedSearchCV(cv=5, estimator=RandomForestRegressor(),\n",
       "                   param_distributions={&#x27;criterion&#x27;: [&#x27;squared_error&#x27;,\n",
       "                                                      &#x27;absolute_error&#x27;],\n",
       "                                        &#x27;max_depth&#x27;: [2, 3, 4, 6, 8, 10, 20, 12,\n",
       "                                                      16, 18],\n",
       "                                        &#x27;min_samples_split&#x27;: [3, 2, 5, 7, 8, 9,\n",
       "                                                              10, 13, 12]},\n",
       "                   scoring=&#x27;neg_mean_squared_error&#x27;)</pre><b>In a Jupyter environment, please rerun this cell to show the HTML representation or trust the notebook. <br />On GitHub, the HTML representation is unable to render, please try loading this page with nbviewer.org.</b></div><div class=\"sk-container\" hidden><div class=\"sk-item sk-dashed-wrapped\"><div class=\"sk-label-container\"><div class=\"sk-label sk-toggleable\"><input class=\"sk-toggleable__control sk-hidden--visually\" id=\"sk-estimator-id-6\" type=\"checkbox\" ><label for=\"sk-estimator-id-6\" class=\"sk-toggleable__label sk-toggleable__label-arrow\">RandomizedSearchCV</label><div class=\"sk-toggleable__content\"><pre>RandomizedSearchCV(cv=5, estimator=RandomForestRegressor(),\n",
       "                   param_distributions={&#x27;criterion&#x27;: [&#x27;squared_error&#x27;,\n",
       "                                                      &#x27;absolute_error&#x27;],\n",
       "                                        &#x27;max_depth&#x27;: [2, 3, 4, 6, 8, 10, 20, 12,\n",
       "                                                      16, 18],\n",
       "                                        &#x27;min_samples_split&#x27;: [3, 2, 5, 7, 8, 9,\n",
       "                                                              10, 13, 12]},\n",
       "                   scoring=&#x27;neg_mean_squared_error&#x27;)</pre></div></div></div><div class=\"sk-parallel\"><div class=\"sk-parallel-item\"><div class=\"sk-item\"><div class=\"sk-label-container\"><div class=\"sk-label sk-toggleable\"><input class=\"sk-toggleable__control sk-hidden--visually\" id=\"sk-estimator-id-7\" type=\"checkbox\" ><label for=\"sk-estimator-id-7\" class=\"sk-toggleable__label sk-toggleable__label-arrow\">estimator: RandomForestRegressor</label><div class=\"sk-toggleable__content\"><pre>RandomForestRegressor()</pre></div></div></div><div class=\"sk-serial\"><div class=\"sk-item\"><div class=\"sk-estimator sk-toggleable\"><input class=\"sk-toggleable__control sk-hidden--visually\" id=\"sk-estimator-id-8\" type=\"checkbox\" ><label for=\"sk-estimator-id-8\" class=\"sk-toggleable__label sk-toggleable__label-arrow\">RandomForestRegressor</label><div class=\"sk-toggleable__content\"><pre>RandomForestRegressor()</pre></div></div></div></div></div></div></div></div></div></div>"
      ],
      "text/plain": [
       "RandomizedSearchCV(cv=5, estimator=RandomForestRegressor(),\n",
       "                   param_distributions={'criterion': ['squared_error',\n",
       "                                                      'absolute_error'],\n",
       "                                        'max_depth': [2, 3, 4, 6, 8, 10, 20, 12,\n",
       "                                                      16, 18],\n",
       "                                        'min_samples_split': [3, 2, 5, 7, 8, 9,\n",
       "                                                              10, 13, 12]},\n",
       "                   scoring='neg_mean_squared_error')"
      ]
     },
     "execution_count": 63,
     "metadata": {},
     "output_type": "execute_result"
    }
   ],
   "source": [
    "g_search = RandomizedSearchCV(estimator=rf, param_distributions=paramter, cv=5, scoring='neg_mean_squared_error')\n",
    "g_search.fit(X_train, y_train)"
   ]
  },
  {
   "cell_type": "code",
   "execution_count": 64,
   "id": "79a8e419",
   "metadata": {},
   "outputs": [],
   "source": [
    "best_param = g_search.best_params_\n",
    "best_criterion=best_param['criterion']\n",
    "best_max_depth=best_param['max_depth']\n",
    "best_min_samples_split=best_param['min_samples_split']"
   ]
  },
  {
   "cell_type": "code",
   "execution_count": 65,
   "id": "0d1dba5b",
   "metadata": {},
   "outputs": [
    {
     "name": "stdout",
     "output_type": "stream",
     "text": [
      "squared_error\n",
      "12\n",
      "2\n"
     ]
    }
   ],
   "source": [
    "print(best_criterion)\n",
    "print(best_max_depth)\n",
    "print(best_min_samples_split)"
   ]
  },
  {
   "cell_type": "code",
   "execution_count": 66,
   "id": "56c4931a",
   "metadata": {},
   "outputs": [
    {
     "data": {
      "text/html": [
       "<style>#sk-container-id-5 {color: black;}#sk-container-id-5 pre{padding: 0;}#sk-container-id-5 div.sk-toggleable {background-color: white;}#sk-container-id-5 label.sk-toggleable__label {cursor: pointer;display: block;width: 100%;margin-bottom: 0;padding: 0.3em;box-sizing: border-box;text-align: center;}#sk-container-id-5 label.sk-toggleable__label-arrow:before {content: \"▸\";float: left;margin-right: 0.25em;color: #696969;}#sk-container-id-5 label.sk-toggleable__label-arrow:hover:before {color: black;}#sk-container-id-5 div.sk-estimator:hover label.sk-toggleable__label-arrow:before {color: black;}#sk-container-id-5 div.sk-toggleable__content {max-height: 0;max-width: 0;overflow: hidden;text-align: left;background-color: #f0f8ff;}#sk-container-id-5 div.sk-toggleable__content pre {margin: 0.2em;color: black;border-radius: 0.25em;background-color: #f0f8ff;}#sk-container-id-5 input.sk-toggleable__control:checked~div.sk-toggleable__content {max-height: 200px;max-width: 100%;overflow: auto;}#sk-container-id-5 input.sk-toggleable__control:checked~label.sk-toggleable__label-arrow:before {content: \"▾\";}#sk-container-id-5 div.sk-estimator input.sk-toggleable__control:checked~label.sk-toggleable__label {background-color: #d4ebff;}#sk-container-id-5 div.sk-label input.sk-toggleable__control:checked~label.sk-toggleable__label {background-color: #d4ebff;}#sk-container-id-5 input.sk-hidden--visually {border: 0;clip: rect(1px 1px 1px 1px);clip: rect(1px, 1px, 1px, 1px);height: 1px;margin: -1px;overflow: hidden;padding: 0;position: absolute;width: 1px;}#sk-container-id-5 div.sk-estimator {font-family: monospace;background-color: #f0f8ff;border: 1px dotted black;border-radius: 0.25em;box-sizing: border-box;margin-bottom: 0.5em;}#sk-container-id-5 div.sk-estimator:hover {background-color: #d4ebff;}#sk-container-id-5 div.sk-parallel-item::after {content: \"\";width: 100%;border-bottom: 1px solid gray;flex-grow: 1;}#sk-container-id-5 div.sk-label:hover label.sk-toggleable__label {background-color: #d4ebff;}#sk-container-id-5 div.sk-serial::before {content: \"\";position: absolute;border-left: 1px solid gray;box-sizing: border-box;top: 0;bottom: 0;left: 50%;z-index: 0;}#sk-container-id-5 div.sk-serial {display: flex;flex-direction: column;align-items: center;background-color: white;padding-right: 0.2em;padding-left: 0.2em;position: relative;}#sk-container-id-5 div.sk-item {position: relative;z-index: 1;}#sk-container-id-5 div.sk-parallel {display: flex;align-items: stretch;justify-content: center;background-color: white;position: relative;}#sk-container-id-5 div.sk-item::before, #sk-container-id-5 div.sk-parallel-item::before {content: \"\";position: absolute;border-left: 1px solid gray;box-sizing: border-box;top: 0;bottom: 0;left: 50%;z-index: -1;}#sk-container-id-5 div.sk-parallel-item {display: flex;flex-direction: column;z-index: 1;position: relative;background-color: white;}#sk-container-id-5 div.sk-parallel-item:first-child::after {align-self: flex-end;width: 50%;}#sk-container-id-5 div.sk-parallel-item:last-child::after {align-self: flex-start;width: 50%;}#sk-container-id-5 div.sk-parallel-item:only-child::after {width: 0;}#sk-container-id-5 div.sk-dashed-wrapped {border: 1px dashed gray;margin: 0 0.4em 0.5em 0.4em;box-sizing: border-box;padding-bottom: 0.4em;background-color: white;}#sk-container-id-5 div.sk-label label {font-family: monospace;font-weight: bold;display: inline-block;line-height: 1.2em;}#sk-container-id-5 div.sk-label-container {text-align: center;}#sk-container-id-5 div.sk-container {/* jupyter's `normalize.less` sets `[hidden] { display: none; }` but bootstrap.min.css set `[hidden] { display: none !important; }` so we also need the `!important` here to be able to override the default hidden behavior on the sphinx rendered scikit-learn.org. See: https://github.com/scikit-learn/scikit-learn/issues/21755 */display: inline-block !important;position: relative;}#sk-container-id-5 div.sk-text-repr-fallback {display: none;}</style><div id=\"sk-container-id-5\" class=\"sk-top-container\"><div class=\"sk-text-repr-fallback\"><pre>RandomForestRegressor(max_depth=12)</pre><b>In a Jupyter environment, please rerun this cell to show the HTML representation or trust the notebook. <br />On GitHub, the HTML representation is unable to render, please try loading this page with nbviewer.org.</b></div><div class=\"sk-container\" hidden><div class=\"sk-item\"><div class=\"sk-estimator sk-toggleable\"><input class=\"sk-toggleable__control sk-hidden--visually\" id=\"sk-estimator-id-9\" type=\"checkbox\" checked><label for=\"sk-estimator-id-9\" class=\"sk-toggleable__label sk-toggleable__label-arrow\">RandomForestRegressor</label><div class=\"sk-toggleable__content\"><pre>RandomForestRegressor(max_depth=12)</pre></div></div></div></div></div>"
      ],
      "text/plain": [
       "RandomForestRegressor(max_depth=12)"
      ]
     },
     "execution_count": 66,
     "metadata": {},
     "output_type": "execute_result"
    }
   ],
   "source": [
    "best_model = RandomForestRegressor(criterion=best_criterion,max_depth=best_max_depth,min_samples_split=best_min_samples_split)\n",
    "best_model.fit(X_train,y_train)"
   ]
  },
  {
   "cell_type": "code",
   "execution_count": 67,
   "id": "eef246e8",
   "metadata": {},
   "outputs": [
    {
     "data": {
      "text/plain": [
       "array([ 44894.67631517,  45589.57719977,  87506.38354924,  44978.40847459,\n",
       "        45260.75109009,  44603.80267757,  43920.15066366,  45339.27029351,\n",
       "        45155.38526908,  45100.2946831 ,  45427.51963343, 188587.4195    ,\n",
       "        44046.56005496,  46069.92543409,  44840.87580947,  44222.68726268,\n",
       "        45690.86862712,  44986.68967818,  44690.80220447,  44790.99529201,\n",
       "        61974.09573282, 256034.93      ,  44373.13111791, 120265.79      ,\n",
       "        53421.93686973,  43954.58247034,  44665.26890963,  45268.02896225,\n",
       "        44849.40186852,  44590.95953974,  82823.2364852 ,  61489.17108196,\n",
       "        45232.46015029,  44837.15315581,  44465.46645085,  44635.13810216,\n",
       "        44660.60670066,  45305.67578409,  44762.90359898,  45982.60598011,\n",
       "        44874.69499021,  45261.90845165,  60897.54275349,  46124.2075781 ,\n",
       "        45378.12479317,  45242.63945699,  44589.25827111,  85815.11199666,\n",
       "        56660.83114035,  45938.08337786,  45659.59356704,  44773.32056316,\n",
       "        43997.13605433,  56418.84666667, 125745.19      ,  44698.9081226 ,\n",
       "        45232.97158048,  58847.90833903,  87512.41195238,  45008.82726286,\n",
       "        44883.26294438,  91518.09215702,  43522.86034542,  47199.27104059,\n",
       "       120874.8       ,  88296.35496938,  45238.29210748,  86759.15234007,\n",
       "        44767.00221452, 117868.14      ,  43830.952984  ,  44292.04050457,\n",
       "        44999.99156234,  61536.14080425, 114873.51333333, 305765.1       ,\n",
       "        44017.53964626,  45669.40871349, 178043.015     ,  57930.50575583,\n",
       "        44740.0403344 ,  44061.32964395, 177801.89      ,  87005.76813397,\n",
       "        43928.82386914,  44850.66523562,  45436.4181023 ,  45061.48196069,\n",
       "        57645.9172622 ,  60039.64269683,  45640.31865564,  45765.57457134,\n",
       "        44740.07503589,  44916.71256249,  45888.40059461,  44240.81946417,\n",
       "        45381.75114037, 183089.09285714,  46513.48514878,  45599.89660329,\n",
       "        46097.63673   ,  45033.11523129,  44629.64097842,  45275.23858904,\n",
       "        63493.49944612,  58018.59456883,  56052.01845708,  45151.14280622,\n",
       "        42813.45428411,  47170.47832983,  44572.93239175,  44966.46585491,\n",
       "        46001.33606368,  44970.79900947,  44857.96737378,  90417.9206563 ,\n",
       "        45113.84243199,  45232.5173795 ,  44916.39256345,  44439.79869129,\n",
       "        44826.32196915,  56494.3596598 ,  44804.01765072,  45055.09016333,\n",
       "        46133.92860083,  44764.91606846,  45581.7726635 ,  45413.7632345 ,\n",
       "        65470.68735348,  44663.05939606,  44373.13111791,  44772.21466887,\n",
       "        45421.39442145,  42949.82646347,  44993.01376776,  45666.72344506,\n",
       "        44826.33978401,  44973.46442512,  45117.15227431,  44603.30120761,\n",
       "        57808.39191239,  43810.40840059,  60188.61695076,  44829.1196963 ,\n",
       "        46963.30778381,  44951.10939443,  45068.88782404,  62985.99352418,\n",
       "        44528.92985478,  45824.55073598,  86911.24603175,  45160.72904942,\n",
       "        45246.86039293,  43674.92794976,  45158.88949921,  44791.53761033,\n",
       "        46583.99455676,  45233.74704114,  45612.51623885,  44705.7160307 ,\n",
       "        61159.2797677 ,  90111.23637615,  44858.61704473,  44673.44103787,\n",
       "        44767.73504722,  45238.99718472, 249513.04      ,  57668.36038911,\n",
       "        44881.26154055,  89875.16681112,  45704.45978675,  44356.53854415,\n",
       "        44708.75560752,  44177.48966195,  62023.04054799,  44891.51518783,\n",
       "       245108.54      , 126214.41      ,  44601.35876427,  43839.54422257,\n",
       "        46097.49858102,  44550.66150062,  45143.36636777,  43973.67744855,\n",
       "        44939.07924372,  44556.34726692,  44409.49989102,  61602.80339048,\n",
       "       131164.35      , 130115.47      ,  44886.1048117 ,  45288.97001212,\n",
       "        45286.20320519,  44459.76746227,  59775.77290496,  45051.02918554,\n",
       "        45331.88564405,  58476.54347944,  44259.20471614,  44212.49089966,\n",
       "        59775.77290496,  45157.20059407,  44653.71618394,  45139.98809406,\n",
       "        45246.07136005,  44701.08207413,  59492.21222394,  45661.59423167,\n",
       "        58991.29511042,  44462.47074782,  44381.30099912,  45275.71919628,\n",
       "        44670.49715493,  43833.58910613,  45012.83869241,  45802.82856681,\n",
       "        45284.27806054,  44904.38264805,  44304.36120257,  58844.89174502,\n",
       "        44474.92322961,  45453.30959348,  59366.31251111,  44811.3548965 ,\n",
       "        64656.39106892,  44919.24891112, 131055.52      ,  46119.3242924 ,\n",
       "        44603.673769  ,  44006.30650662,  44801.53792645,  85234.47011517,\n",
       "        45107.69563346,  44717.28309325,  44896.63811547,  44421.52004182,\n",
       "        45378.23168529, 170373.79      ,  45014.12346389,  44842.93286137,\n",
       "        45205.01041311,  44442.22726885,  60618.38793008, 136251.06      ,\n",
       "        57572.14464186,  58533.07352625,  44930.65977326,  44240.7625009 ,\n",
       "        86231.88797875,  44856.27489247,  44292.22059756, 134318.96      ,\n",
       "        45047.87685531, 174128.6575    ,  59492.21222394,  44661.81461629,\n",
       "        44822.22386875,  44567.6707719 ,  44882.58843124,  88624.70811302,\n",
       "        45380.78103669,  44294.37764346,  62444.76122707,  44931.33747445,\n",
       "        62822.23201511,  45334.5615071 ,  44397.36090698,  45371.49609625,\n",
       "        44424.11641495,  45460.7256562 ,  43776.28743627,  43662.99918043,\n",
       "        45347.81146219,  58248.90283495,  45259.5717396 ,  45172.85304497,\n",
       "        45401.93148717,  45185.6218909 ,  44612.63719041,  45065.62273916,\n",
       "        44886.40502952,  46527.51186538,  44696.57394162,  60134.87737396,\n",
       "        44906.62386001,  44630.27264576,  45454.52952973,  44577.42374345,\n",
       "       163194.06      ,  44913.7026919 ,  44225.82929303,  45653.94650328,\n",
       "        44825.00843839,  44655.74254592,  57695.15368368,  45410.30457249,\n",
       "        92009.53624324,  44844.10465565,  56065.67465688,  44848.10362407,\n",
       "       166686.22      , 122474.74      ,  44030.45163839,  55769.65717966,\n",
       "        44326.30249791,  45047.58911693,  45369.53479954,  45420.96218161,\n",
       "        45035.85671105,  44610.67968836,  47429.68253083,  45061.24816807,\n",
       "        44161.59203429,  44447.05641137,  44705.81518898,  45344.78489947,\n",
       "        44770.27401176,  57759.2297636 ,  59319.22511922,  56014.98614973,\n",
       "        43816.40276607,  44717.11769415,  46939.08793523,  44302.02096143,\n",
       "       181206.255     ,  60450.86991393,  45279.4457887 ,  44848.22115714,\n",
       "        87133.67998258,  44967.1941827 , 178935.87      ,  45548.28498196,\n",
       "        45181.67650486,  45014.0012866 ,  42794.22887306, 116884.04      ,\n",
       "        44934.69906338,  44455.27280347,  44933.79771204,  45230.20436641,\n",
       "        89326.47327827,  59640.014398  ,  45456.33384284,  45165.00096912,\n",
       "        44448.77154549,  45174.72409275,  44618.21292105,  44796.32621973,\n",
       "        45084.67517671,  44608.03143065,  92834.56704906,  45185.00969872,\n",
       "       168919.31      ,  59637.74016726,  88800.67179572, 122357.2       ,\n",
       "        44250.4888153 ,  45055.09016333,  45012.60394105,  43977.89207243,\n",
       "        45347.51368368,  45221.67614088,  93171.27436698,  44210.55655869,\n",
       "        45207.75752421,  45433.09434761,  44361.03771443,  54282.4355119 ,\n",
       "        44355.75722426,  45315.99169255,  44720.79374194,  61797.33271212,\n",
       "        45032.33005629,  44387.03578324,  45121.79348829,  45365.71057218,\n",
       "        43367.52618968,  46187.94133921,  60619.02115018,  44366.01858944,\n",
       "        58575.14346805,  45319.38510329,  45301.30463529,  45111.40695166,\n",
       "        44203.02221413,  44735.0015831 ,  59742.5834013 ,  44937.91004011,\n",
       "        45028.61908216,  44968.08107643,  44318.57921015,  44845.70864247,\n",
       "        58995.90430952,  45704.5963833 ,  44937.9149163 ,  45317.01943829,\n",
       "        44887.11142792,  45311.84705259,  43553.84513687,  45246.29762195,\n",
       "        44913.50973917,  59644.84875   ,  57945.21118541,  45112.41250531,\n",
       "       289050.44      ,  44898.73917011,  45033.22521025,  44778.38532303,\n",
       "        44195.73418363,  45254.88198165,  45329.60914851,  44773.0324173 ,\n",
       "        45315.39898373,  44919.79774033,  44909.94202771,  44739.90425931,\n",
       "        57628.54587488,  60537.39592502,  44298.3985345 ,  44205.62792108,\n",
       "        45542.81948396,  44969.5054964 ,  57299.20996867, 109833.5       ,\n",
       "        44986.68805028,  42639.88508541,  45483.41035509,  44645.58088028,\n",
       "        45260.42433628, 107757.64      ,  45568.42307102,  59534.0976843 ,\n",
       "        44775.72850328,  44286.89002624,  43985.52745545,  44718.84595953,\n",
       "        44803.42904078,  44303.64985698,  44635.96346873,  45004.24833414,\n",
       "        44428.32092068, 135738.97      ,  44537.99964747, 125252.48      ,\n",
       "        53422.97218831,  45038.27298414,  44879.08575035,  44958.57685752,\n",
       "        43323.29475458,  45269.87154635,  45315.10505776,  45089.97821484,\n",
       "        44732.16589101, 176535.882     ,  44629.95579005,  44388.40709824,\n",
       "        44604.78224464,  44842.41325349,  45632.66306847,  45049.55257091,\n",
       "        44980.24566217,  45540.66541355,  45661.59423167,  44372.6326371 ,\n",
       "        44834.53175526,  44630.256113  ,  44800.14418011,  44598.98656581,\n",
       "       121288.654     ,  60236.56079438,  44503.53262555,  45555.77329222,\n",
       "        45186.64896828,  57064.24611434,  60112.43700271,  44855.91832694,\n",
       "        45938.61745536,  87722.23314607,  44888.28056078,  44628.40678951,\n",
       "        60309.87975059,  44271.49361609,  46844.27730318,  44627.27841995,\n",
       "        44887.76808907,  45446.03720619,  45345.01452177,  86796.77314273,\n",
       "        44607.18105341,  45850.84820634,  56028.75432332,  44773.01496446,\n",
       "        45086.45273803,  44579.17446988,  45042.51237773,  43970.68642941,\n",
       "        44572.94068851,  46028.1508888 ,  45612.78449959,  46356.53905348,\n",
       "        58089.258775  ,  62049.25388924,  63864.43321593,  45065.81172553,\n",
       "        45922.45485169,  45091.0901128 ,  44402.89741604,  47244.03589117,\n",
       "        44649.2040035 ,  87759.16181718,  61222.87403354,  59919.10310606,\n",
       "        46043.44765019,  45566.16069335,  45836.23817466,  45610.10469085,\n",
       "        45050.76233395,  45279.4457887 ,  44196.80960003,  44529.97142967,\n",
       "        45179.03360695,  45316.36883207,  45346.51200418,  45189.52199702,\n",
       "        44478.29227651,  44240.71108293,  65909.87130702,  60858.67015048,\n",
       "        44724.88970021,  44981.09240103,  46527.47141982,  46028.1508888 ,\n",
       "        44462.02003828,  44413.06822293,  45362.53763413,  58984.41177272,\n",
       "        44825.07866689,  45351.74422114,  44886.88299077,  45529.11587905,\n",
       "        46075.56883507,  45246.64698571,  61841.89491342,  45121.05822939,\n",
       "       135994.63      ,  43819.71155964,  45784.48028219, 114494.06      ,\n",
       "        57225.08614035,  89512.88989474, 293955.09      ,  44627.4840642 ,\n",
       "        44812.44683891,  87872.3717805 ,  45251.69312629,  45356.13779001,\n",
       "        46175.40064907,  45172.52964164, 131247.4       , 179741.52      ,\n",
       "        45402.94999258,  82722.02901272,  46966.73207482,  60593.42470146,\n",
       "       106322.1547619 ,  45156.91567204,  61787.2972993 ,  45289.09993044,\n",
       "        44719.71921833,  45161.51341642,  44469.49105012,  58556.46455823,\n",
       "        44932.64328216,  45577.42228577,  44914.43449605,  44075.99403727,\n",
       "        45599.89660329,  45290.1206747 ,  60795.04309268,  45142.98610844,\n",
       "        44661.02876312,  44446.31580023,  59640.014398  ,  89796.04909144,\n",
       "        45282.17337502,  57704.60854055,  45648.78038285,  44785.00939576,\n",
       "       260194.77      ,  46762.49322918,  45583.31215045,  44786.88101736,\n",
       "       117036.44533333,  44824.09008868,  45136.58268826,  45003.76023177,\n",
       "        44822.16044648,  45166.69739036,  45647.97220975,  45003.90105163,\n",
       "        44825.87786279,  59314.97066739, 177037.39      ,  44499.35470816,\n",
       "       181725.2       ,  44643.01416656,  45125.98190533,  44871.85157768,\n",
       "        57246.46586677,  44919.4584375 ,  45178.12134584,  45609.2409336 ,\n",
       "        44526.29094885,  44427.06901349,  45659.71775412,  44548.61832315,\n",
       "        46358.6360928 ,  44847.96400883,  44777.46598565,  45937.05638655,\n",
       "        44966.57287482,  82603.05631516, 191541.11885714,  44761.93314534,\n",
       "        44434.27462968,  44664.58103156,  44542.51250662,  44670.49715493,\n",
       "        44827.4139871 ,  45118.02244716,  45460.34580705, 128906.06      ,\n",
       "        44790.36522664,  56572.39816387,  44354.85954032,  45009.23658585,\n",
       "        44157.95389775,  45560.82886153,  44773.10528679,  44373.13111791,\n",
       "        44382.59080301,  45737.70134176,  45191.99797754,  45579.68965729,\n",
       "        45064.93719109,  45922.17097164,  45025.55253534,  87653.28544425,\n",
       "        45713.55547467, 126436.44      ,  45444.20749939,  44160.48006636,\n",
       "        43493.99687417,  44845.18931506,  45115.52543351,  45117.55896667,\n",
       "        44951.41665893,  45262.15005291])"
      ]
     },
     "execution_count": 67,
     "metadata": {},
     "output_type": "execute_result"
    }
   ],
   "source": [
    "y_pred2=best_model.predict(X_test)\n",
    "y_pred2"
   ]
  },
  {
   "cell_type": "code",
   "execution_count": 68,
   "id": "a1dc9b7c",
   "metadata": {},
   "outputs": [
    {
     "data": {
      "text/plain": [
       "47278075.47029133"
      ]
     },
     "execution_count": 68,
     "metadata": {},
     "output_type": "execute_result"
    }
   ],
   "source": [
    "mse1=mean_squared_error(y_test,y_pred2)\n",
    "mse1"
   ]
  },
  {
   "cell_type": "code",
   "execution_count": 69,
   "id": "23b935f4",
   "metadata": {},
   "outputs": [
    {
     "data": {
      "text/plain": [
       "0.9615629231826304"
      ]
     },
     "execution_count": 69,
     "metadata": {},
     "output_type": "execute_result"
    }
   ],
   "source": [
    "acc_score2=r2_score(y_test,y_pred2)\n",
    "acc_score2"
   ]
  },
  {
   "cell_type": "markdown",
   "id": "7b17e4ec",
   "metadata": {},
   "source": [
    "### Gradient Boosting"
   ]
  },
  {
   "cell_type": "code",
   "execution_count": 70,
   "id": "769a0481",
   "metadata": {},
   "outputs": [],
   "source": [
    "from sklearn.ensemble import GradientBoostingRegressor\n",
    "gbr = GradientBoostingRegressor()\n"
   ]
  },
  {
   "cell_type": "code",
   "execution_count": 71,
   "id": "41bb08ca",
   "metadata": {},
   "outputs": [],
   "source": [
    "paramters={\n",
    "         'loss':['squared_error','absolute_error'],\n",
    "         'max_depth':[3,4,6,8,10,20,12,16,18],\n",
    "         'min_samples_split':[3,2,5,7,8,9,10,13,12],\n",
    "         'learning_rate':[0.1,0.01,0.001]\n",
    "}"
   ]
  },
  {
   "cell_type": "code",
   "execution_count": 72,
   "id": "a44f9ab0",
   "metadata": {},
   "outputs": [
    {
     "data": {
      "text/html": [
       "<style>#sk-container-id-6 {color: black;}#sk-container-id-6 pre{padding: 0;}#sk-container-id-6 div.sk-toggleable {background-color: white;}#sk-container-id-6 label.sk-toggleable__label {cursor: pointer;display: block;width: 100%;margin-bottom: 0;padding: 0.3em;box-sizing: border-box;text-align: center;}#sk-container-id-6 label.sk-toggleable__label-arrow:before {content: \"▸\";float: left;margin-right: 0.25em;color: #696969;}#sk-container-id-6 label.sk-toggleable__label-arrow:hover:before {color: black;}#sk-container-id-6 div.sk-estimator:hover label.sk-toggleable__label-arrow:before {color: black;}#sk-container-id-6 div.sk-toggleable__content {max-height: 0;max-width: 0;overflow: hidden;text-align: left;background-color: #f0f8ff;}#sk-container-id-6 div.sk-toggleable__content pre {margin: 0.2em;color: black;border-radius: 0.25em;background-color: #f0f8ff;}#sk-container-id-6 input.sk-toggleable__control:checked~div.sk-toggleable__content {max-height: 200px;max-width: 100%;overflow: auto;}#sk-container-id-6 input.sk-toggleable__control:checked~label.sk-toggleable__label-arrow:before {content: \"▾\";}#sk-container-id-6 div.sk-estimator input.sk-toggleable__control:checked~label.sk-toggleable__label {background-color: #d4ebff;}#sk-container-id-6 div.sk-label input.sk-toggleable__control:checked~label.sk-toggleable__label {background-color: #d4ebff;}#sk-container-id-6 input.sk-hidden--visually {border: 0;clip: rect(1px 1px 1px 1px);clip: rect(1px, 1px, 1px, 1px);height: 1px;margin: -1px;overflow: hidden;padding: 0;position: absolute;width: 1px;}#sk-container-id-6 div.sk-estimator {font-family: monospace;background-color: #f0f8ff;border: 1px dotted black;border-radius: 0.25em;box-sizing: border-box;margin-bottom: 0.5em;}#sk-container-id-6 div.sk-estimator:hover {background-color: #d4ebff;}#sk-container-id-6 div.sk-parallel-item::after {content: \"\";width: 100%;border-bottom: 1px solid gray;flex-grow: 1;}#sk-container-id-6 div.sk-label:hover label.sk-toggleable__label {background-color: #d4ebff;}#sk-container-id-6 div.sk-serial::before {content: \"\";position: absolute;border-left: 1px solid gray;box-sizing: border-box;top: 0;bottom: 0;left: 50%;z-index: 0;}#sk-container-id-6 div.sk-serial {display: flex;flex-direction: column;align-items: center;background-color: white;padding-right: 0.2em;padding-left: 0.2em;position: relative;}#sk-container-id-6 div.sk-item {position: relative;z-index: 1;}#sk-container-id-6 div.sk-parallel {display: flex;align-items: stretch;justify-content: center;background-color: white;position: relative;}#sk-container-id-6 div.sk-item::before, #sk-container-id-6 div.sk-parallel-item::before {content: \"\";position: absolute;border-left: 1px solid gray;box-sizing: border-box;top: 0;bottom: 0;left: 50%;z-index: -1;}#sk-container-id-6 div.sk-parallel-item {display: flex;flex-direction: column;z-index: 1;position: relative;background-color: white;}#sk-container-id-6 div.sk-parallel-item:first-child::after {align-self: flex-end;width: 50%;}#sk-container-id-6 div.sk-parallel-item:last-child::after {align-self: flex-start;width: 50%;}#sk-container-id-6 div.sk-parallel-item:only-child::after {width: 0;}#sk-container-id-6 div.sk-dashed-wrapped {border: 1px dashed gray;margin: 0 0.4em 0.5em 0.4em;box-sizing: border-box;padding-bottom: 0.4em;background-color: white;}#sk-container-id-6 div.sk-label label {font-family: monospace;font-weight: bold;display: inline-block;line-height: 1.2em;}#sk-container-id-6 div.sk-label-container {text-align: center;}#sk-container-id-6 div.sk-container {/* jupyter's `normalize.less` sets `[hidden] { display: none; }` but bootstrap.min.css set `[hidden] { display: none !important; }` so we also need the `!important` here to be able to override the default hidden behavior on the sphinx rendered scikit-learn.org. See: https://github.com/scikit-learn/scikit-learn/issues/21755 */display: inline-block !important;position: relative;}#sk-container-id-6 div.sk-text-repr-fallback {display: none;}</style><div id=\"sk-container-id-6\" class=\"sk-top-container\"><div class=\"sk-text-repr-fallback\"><pre>RandomizedSearchCV(cv=5, estimator=GradientBoostingRegressor(),\n",
       "                   param_distributions={&#x27;learning_rate&#x27;: [0.1, 0.01, 0.001],\n",
       "                                        &#x27;loss&#x27;: [&#x27;squared_error&#x27;,\n",
       "                                                 &#x27;absolute_error&#x27;],\n",
       "                                        &#x27;max_depth&#x27;: [3, 4, 6, 8, 10, 20, 12,\n",
       "                                                      16, 18],\n",
       "                                        &#x27;min_samples_split&#x27;: [3, 2, 5, 7, 8, 9,\n",
       "                                                              10, 13, 12]},\n",
       "                   scoring=&#x27;neg_mean_squared_error&#x27;)</pre><b>In a Jupyter environment, please rerun this cell to show the HTML representation or trust the notebook. <br />On GitHub, the HTML representation is unable to render, please try loading this page with nbviewer.org.</b></div><div class=\"sk-container\" hidden><div class=\"sk-item sk-dashed-wrapped\"><div class=\"sk-label-container\"><div class=\"sk-label sk-toggleable\"><input class=\"sk-toggleable__control sk-hidden--visually\" id=\"sk-estimator-id-10\" type=\"checkbox\" ><label for=\"sk-estimator-id-10\" class=\"sk-toggleable__label sk-toggleable__label-arrow\">RandomizedSearchCV</label><div class=\"sk-toggleable__content\"><pre>RandomizedSearchCV(cv=5, estimator=GradientBoostingRegressor(),\n",
       "                   param_distributions={&#x27;learning_rate&#x27;: [0.1, 0.01, 0.001],\n",
       "                                        &#x27;loss&#x27;: [&#x27;squared_error&#x27;,\n",
       "                                                 &#x27;absolute_error&#x27;],\n",
       "                                        &#x27;max_depth&#x27;: [3, 4, 6, 8, 10, 20, 12,\n",
       "                                                      16, 18],\n",
       "                                        &#x27;min_samples_split&#x27;: [3, 2, 5, 7, 8, 9,\n",
       "                                                              10, 13, 12]},\n",
       "                   scoring=&#x27;neg_mean_squared_error&#x27;)</pre></div></div></div><div class=\"sk-parallel\"><div class=\"sk-parallel-item\"><div class=\"sk-item\"><div class=\"sk-label-container\"><div class=\"sk-label sk-toggleable\"><input class=\"sk-toggleable__control sk-hidden--visually\" id=\"sk-estimator-id-11\" type=\"checkbox\" ><label for=\"sk-estimator-id-11\" class=\"sk-toggleable__label sk-toggleable__label-arrow\">estimator: GradientBoostingRegressor</label><div class=\"sk-toggleable__content\"><pre>GradientBoostingRegressor()</pre></div></div></div><div class=\"sk-serial\"><div class=\"sk-item\"><div class=\"sk-estimator sk-toggleable\"><input class=\"sk-toggleable__control sk-hidden--visually\" id=\"sk-estimator-id-12\" type=\"checkbox\" ><label for=\"sk-estimator-id-12\" class=\"sk-toggleable__label sk-toggleable__label-arrow\">GradientBoostingRegressor</label><div class=\"sk-toggleable__content\"><pre>GradientBoostingRegressor()</pre></div></div></div></div></div></div></div></div></div></div>"
      ],
      "text/plain": [
       "RandomizedSearchCV(cv=5, estimator=GradientBoostingRegressor(),\n",
       "                   param_distributions={'learning_rate': [0.1, 0.01, 0.001],\n",
       "                                        'loss': ['squared_error',\n",
       "                                                 'absolute_error'],\n",
       "                                        'max_depth': [3, 4, 6, 8, 10, 20, 12,\n",
       "                                                      16, 18],\n",
       "                                        'min_samples_split': [3, 2, 5, 7, 8, 9,\n",
       "                                                              10, 13, 12]},\n",
       "                   scoring='neg_mean_squared_error')"
      ]
     },
     "execution_count": 72,
     "metadata": {},
     "output_type": "execute_result"
    }
   ],
   "source": [
    "g_search = RandomizedSearchCV(estimator=gbr, param_distributions=paramters, cv=5, scoring='neg_mean_squared_error')\n",
    "g_search.fit(X_train, y_train)"
   ]
  },
  {
   "cell_type": "code",
   "execution_count": 73,
   "id": "38ea2327",
   "metadata": {},
   "outputs": [],
   "source": [
    "best_para = g_search.best_params_\n",
    "best_learning_rate=best_para['learning_rate']\n",
    "best_max_dept=best_para['max_depth']\n",
    "best_min_sample_split=best_para['min_samples_split']\n",
    "best_loss=best_para['loss']"
   ]
  },
  {
   "cell_type": "code",
   "execution_count": 74,
   "id": "fcf3d831",
   "metadata": {},
   "outputs": [
    {
     "name": "stdout",
     "output_type": "stream",
     "text": [
      "0.1\n",
      "3\n",
      "squared_error\n",
      "12\n"
     ]
    }
   ],
   "source": [
    "print(best_learning_rate)\n",
    "print(best_max_dept)\n",
    "print(best_loss)\n",
    "print(best_min_sample_split)"
   ]
  },
  {
   "cell_type": "code",
   "execution_count": 75,
   "id": "b178baad",
   "metadata": {},
   "outputs": [
    {
     "data": {
      "text/html": [
       "<style>#sk-container-id-7 {color: black;}#sk-container-id-7 pre{padding: 0;}#sk-container-id-7 div.sk-toggleable {background-color: white;}#sk-container-id-7 label.sk-toggleable__label {cursor: pointer;display: block;width: 100%;margin-bottom: 0;padding: 0.3em;box-sizing: border-box;text-align: center;}#sk-container-id-7 label.sk-toggleable__label-arrow:before {content: \"▸\";float: left;margin-right: 0.25em;color: #696969;}#sk-container-id-7 label.sk-toggleable__label-arrow:hover:before {color: black;}#sk-container-id-7 div.sk-estimator:hover label.sk-toggleable__label-arrow:before {color: black;}#sk-container-id-7 div.sk-toggleable__content {max-height: 0;max-width: 0;overflow: hidden;text-align: left;background-color: #f0f8ff;}#sk-container-id-7 div.sk-toggleable__content pre {margin: 0.2em;color: black;border-radius: 0.25em;background-color: #f0f8ff;}#sk-container-id-7 input.sk-toggleable__control:checked~div.sk-toggleable__content {max-height: 200px;max-width: 100%;overflow: auto;}#sk-container-id-7 input.sk-toggleable__control:checked~label.sk-toggleable__label-arrow:before {content: \"▾\";}#sk-container-id-7 div.sk-estimator input.sk-toggleable__control:checked~label.sk-toggleable__label {background-color: #d4ebff;}#sk-container-id-7 div.sk-label input.sk-toggleable__control:checked~label.sk-toggleable__label {background-color: #d4ebff;}#sk-container-id-7 input.sk-hidden--visually {border: 0;clip: rect(1px 1px 1px 1px);clip: rect(1px, 1px, 1px, 1px);height: 1px;margin: -1px;overflow: hidden;padding: 0;position: absolute;width: 1px;}#sk-container-id-7 div.sk-estimator {font-family: monospace;background-color: #f0f8ff;border: 1px dotted black;border-radius: 0.25em;box-sizing: border-box;margin-bottom: 0.5em;}#sk-container-id-7 div.sk-estimator:hover {background-color: #d4ebff;}#sk-container-id-7 div.sk-parallel-item::after {content: \"\";width: 100%;border-bottom: 1px solid gray;flex-grow: 1;}#sk-container-id-7 div.sk-label:hover label.sk-toggleable__label {background-color: #d4ebff;}#sk-container-id-7 div.sk-serial::before {content: \"\";position: absolute;border-left: 1px solid gray;box-sizing: border-box;top: 0;bottom: 0;left: 50%;z-index: 0;}#sk-container-id-7 div.sk-serial {display: flex;flex-direction: column;align-items: center;background-color: white;padding-right: 0.2em;padding-left: 0.2em;position: relative;}#sk-container-id-7 div.sk-item {position: relative;z-index: 1;}#sk-container-id-7 div.sk-parallel {display: flex;align-items: stretch;justify-content: center;background-color: white;position: relative;}#sk-container-id-7 div.sk-item::before, #sk-container-id-7 div.sk-parallel-item::before {content: \"\";position: absolute;border-left: 1px solid gray;box-sizing: border-box;top: 0;bottom: 0;left: 50%;z-index: -1;}#sk-container-id-7 div.sk-parallel-item {display: flex;flex-direction: column;z-index: 1;position: relative;background-color: white;}#sk-container-id-7 div.sk-parallel-item:first-child::after {align-self: flex-end;width: 50%;}#sk-container-id-7 div.sk-parallel-item:last-child::after {align-self: flex-start;width: 50%;}#sk-container-id-7 div.sk-parallel-item:only-child::after {width: 0;}#sk-container-id-7 div.sk-dashed-wrapped {border: 1px dashed gray;margin: 0 0.4em 0.5em 0.4em;box-sizing: border-box;padding-bottom: 0.4em;background-color: white;}#sk-container-id-7 div.sk-label label {font-family: monospace;font-weight: bold;display: inline-block;line-height: 1.2em;}#sk-container-id-7 div.sk-label-container {text-align: center;}#sk-container-id-7 div.sk-container {/* jupyter's `normalize.less` sets `[hidden] { display: none; }` but bootstrap.min.css set `[hidden] { display: none !important; }` so we also need the `!important` here to be able to override the default hidden behavior on the sphinx rendered scikit-learn.org. See: https://github.com/scikit-learn/scikit-learn/issues/21755 */display: inline-block !important;position: relative;}#sk-container-id-7 div.sk-text-repr-fallback {display: none;}</style><div id=\"sk-container-id-7\" class=\"sk-top-container\"><div class=\"sk-text-repr-fallback\"><pre>GradientBoostingRegressor(min_samples_split=12)</pre><b>In a Jupyter environment, please rerun this cell to show the HTML representation or trust the notebook. <br />On GitHub, the HTML representation is unable to render, please try loading this page with nbviewer.org.</b></div><div class=\"sk-container\" hidden><div class=\"sk-item\"><div class=\"sk-estimator sk-toggleable\"><input class=\"sk-toggleable__control sk-hidden--visually\" id=\"sk-estimator-id-13\" type=\"checkbox\" checked><label for=\"sk-estimator-id-13\" class=\"sk-toggleable__label sk-toggleable__label-arrow\">GradientBoostingRegressor</label><div class=\"sk-toggleable__content\"><pre>GradientBoostingRegressor(min_samples_split=12)</pre></div></div></div></div></div>"
      ],
      "text/plain": [
       "GradientBoostingRegressor(min_samples_split=12)"
      ]
     },
     "execution_count": 75,
     "metadata": {},
     "output_type": "execute_result"
    }
   ],
   "source": [
    "good_model=GradientBoostingRegressor(learning_rate=best_learning_rate,loss=best_loss,max_depth=best_max_dept,min_samples_split=best_min_sample_split)\n",
    "good_model.fit(X_train,y_train)"
   ]
  },
  {
   "cell_type": "code",
   "execution_count": 76,
   "id": "67817c6d",
   "metadata": {},
   "outputs": [],
   "source": [
    "y_pred3 = good_model.predict(X_test)"
   ]
  },
  {
   "cell_type": "code",
   "execution_count": 77,
   "id": "326073c4",
   "metadata": {},
   "outputs": [
    {
     "data": {
      "text/plain": [
       "58402316.674711905"
      ]
     },
     "execution_count": 77,
     "metadata": {},
     "output_type": "execute_result"
    }
   ],
   "source": [
    "mse2=mean_squared_error(y_test,y_pred3)\n",
    "mse2"
   ]
  },
  {
   "cell_type": "code",
   "execution_count": 78,
   "id": "c82eaffc",
   "metadata": {},
   "outputs": [
    {
     "data": {
      "text/plain": [
       "0.952518914739902"
      ]
     },
     "execution_count": 78,
     "metadata": {},
     "output_type": "execute_result"
    }
   ],
   "source": [
    "acc_score3 = r2_score(y_test,y_pred3)\n",
    "acc_score3"
   ]
  },
  {
   "cell_type": "markdown",
   "id": "735b3eba",
   "metadata": {},
   "source": [
    "## compare all the models by graph"
   ]
  },
  {
   "cell_type": "code",
   "execution_count": 79,
   "id": "f1e8f705",
   "metadata": {},
   "outputs": [
    {
     "name": "stderr",
     "output_type": "stream",
     "text": [
      "C:\\Users\\PC\\AppData\\Local\\Programs\\Python\\Python310\\lib\\site-packages\\seaborn\\_oldcore.py:1498: FutureWarning: is_categorical_dtype is deprecated and will be removed in a future version. Use isinstance(dtype, CategoricalDtype) instead\n",
      "  if pd.api.types.is_categorical_dtype(vector):\n",
      "C:\\Users\\PC\\AppData\\Local\\Programs\\Python\\Python310\\lib\\site-packages\\seaborn\\_oldcore.py:1498: FutureWarning: is_categorical_dtype is deprecated and will be removed in a future version. Use isinstance(dtype, CategoricalDtype) instead\n",
      "  if pd.api.types.is_categorical_dtype(vector):\n",
      "C:\\Users\\PC\\AppData\\Local\\Programs\\Python\\Python310\\lib\\site-packages\\seaborn\\_oldcore.py:1765: FutureWarning: unique with argument that is not not a Series, Index, ExtensionArray, or np.ndarray is deprecated and will raise in a future version.\n",
      "  order = pd.unique(vector)\n",
      "C:\\Users\\PC\\AppData\\Local\\Programs\\Python\\Python310\\lib\\site-packages\\seaborn\\_oldcore.py:1498: FutureWarning: is_categorical_dtype is deprecated and will be removed in a future version. Use isinstance(dtype, CategoricalDtype) instead\n",
      "  if pd.api.types.is_categorical_dtype(vector):\n"
     ]
    },
    {
     "data": {
      "image/png": "[encoded data removed]",
      "text/plain": [
       "<Figure size 2200x800 with 1 Axes>"
      ]
     },
     "metadata": {},
     "output_type": "display_data"
    }
   ],
   "source": [
    "mylist=[]\n",
    "mylist2=[]\n",
    "mylist.append(acc_score)\n",
    "mylist2.append(\"Linear Regression\")\n",
    "mylist.append(acc_score1)\n",
    "mylist2.append(\"Descion Tree\")\n",
    "mylist.append(acc_score2)\n",
    "mylist2.append(\"Random Forest\")\n",
    "mylist.append(acc_score3)\n",
    "mylist2.append(\"Gradient Bosting\")\n",
    "\n",
    "plt.rcParams['figure.figsize']=8,6\n",
    "sns.set_style(\"darkgrid\")\n",
    "plt.figure(figsize=(22,8))\n",
    "ax = sns.barplot(x=mylist2, y=mylist)\n",
    "plt.xlabel(\"REGRESSIONS Models\", fontsize = 20 )\n",
    "plt.ylabel(\"Accuracy\", fontsize = 20)\n",
    "plt.title(\"Accuracy of different Regressions Models\", fontsize = 20)\n",
    "plt.xticks(fontsize = 11, horizontalalignment = 'center', rotation = 8)\n",
    "plt.yticks(fontsize = 13)\n",
    "for p in ax.patches:\n",
    "    width, height = p.get_width(), p.get_height()\n",
    "    x, y = p.get_xy() \n",
    "    ax.annotate( f'{height:.2%}',(x + width/2, y + height*1.02) , ha='center',fontsize = 'x-large')\n",
    "\n",
    "plt.show()\n"
   ]
  },
  {
   "cell_type": "markdown",
   "id": "6cadd7af",
   "metadata": {},
   "source": [
    "# Making pickle file"
   ]
  },
  {
   "cell_type": "code",
   "execution_count": 80,
   "id": "d34904ce",
   "metadata": {},
   "outputs": [],
   "source": [
    "import pickle"
   ]
  },
  {
   "cell_type": "code",
   "execution_count": 81,
   "id": "aefe1eb5",
   "metadata": {},
   "outputs": [],
   "source": [
    "pickle.dump(sc,open(\"scaler.pickle\",\"wb\"))\n",
    "ssc=pickle.load(open(\"scaler.pickle\",\"rb\"))\n",
    "pickle.dump(best_model,open(\"random_forest.pkl\",\"wb\"))\n",
    "model=pickle.load(open(\"random_forest.pkl\",\"rb\"))"
   ]
  },
  {
   "cell_type": "code",
   "execution_count": null,
   "id": "b28ef8a4",
   "metadata": {},
   "outputs": [],
   "source": []
  }
 ],
 "metadata": {
  "kernelspec": {
   "display_name": "Python 3 (ipykernel)",
   "language": "python",
   "name": "python3"
  },
  "language_info": {
   "codemirror_mode": {
    "name": "ipython",
    "version": 3
   },
   "file_extension": ".py",
   "mimetype": "text/x-python",
   "name": "python",
   "nbconvert_exporter": "python",
   "pygments_lexer": "ipython3",
   "version": "3.10.7"
  }
 },
 "nbformat": 4,
 "nbformat_minor": 5
}
